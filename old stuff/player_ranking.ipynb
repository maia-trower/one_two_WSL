{
 "cells": [
  {
   "cell_type": "code",
   "execution_count": 1,
   "metadata": {
    "collapsed": true,
    "ExecuteTime": {
     "end_time": "2023-06-03T11:50:18.196101930Z",
     "start_time": "2023-06-03T11:50:18.025376676Z"
    }
   },
   "outputs": [],
   "source": [
    "import pickle\n",
    "import pandas as pd\n",
    "import numpy as np\n",
    "from statsbombpy import sb\n",
    "import seaborn as sns\n",
    "from mplsoccer import Pitch\n",
    "import matplotlib.pyplot as plt\n",
    "from one_two.functions import get_team_info, plot_one_two_heatmaps, get_player_one_twos, key_one_two_percentage\n",
    "pd.set_option(\"display.max_columns\", None)"
   ]
  },
  {
   "cell_type": "code",
   "execution_count": 3,
   "outputs": [],
   "source": [
    "with open(\"../data/WSL_20_21_all_one_twos.pickle\", \"rb\") as f:\n",
    "    one_twos = pickle.load(f)"
   ],
   "metadata": {
    "collapsed": false,
    "ExecuteTime": {
     "end_time": "2023-06-03T11:51:51.485124687Z",
     "start_time": "2023-06-03T11:51:51.130765370Z"
    }
   }
  },
  {
   "cell_type": "code",
   "execution_count": 4,
   "outputs": [],
   "source": [
    "# put it in a single df\n",
    "one_twos_aggregated = pd.DataFrame([])\n",
    "for key in one_twos.keys():\n",
    "    one_twos_aggregated = pd.concat([one_twos_aggregated, one_twos[key]], axis=0)"
   ],
   "metadata": {
    "collapsed": false,
    "ExecuteTime": {
     "end_time": "2023-06-03T11:51:59.518881069Z",
     "start_time": "2023-06-03T11:51:53.763828243Z"
    }
   }
  },
  {
   "cell_type": "code",
   "execution_count": 5,
   "outputs": [
    {
     "data": {
      "text/plain": "    50_50 ball_receipt_outcome ball_recovery_recovery_failure   \n75    NaN                  NaN                            NaN  \\\n76    NaN                  NaN                            NaN   \n101   NaN                  NaN                            NaN   \n102   NaN                  NaN                            NaN   \n164   NaN                  NaN                            NaN   \n..    ...                  ...                            ...   \n478   NaN                  NaN                            NaN   \n646   NaN                  NaN                            NaN   \n647   NaN                  NaN                            NaN   \n851   NaN                  NaN                            NaN   \n852   NaN                  NaN                            NaN   \n\n    block_deflection block_offensive carry_end_location clearance_aerial_won   \n75               NaN             NaN                NaN                  NaN  \\\n76               NaN             NaN                NaN                  NaN   \n101              NaN             NaN                NaN                  NaN   \n102              NaN             NaN                NaN                  NaN   \n164              NaN             NaN                NaN                  NaN   \n..               ...             ...                ...                  ...   \n478              NaN             NaN                NaN                  NaN   \n646              NaN             NaN                NaN                  NaN   \n647              NaN             NaN                NaN                  NaN   \n851              NaN             NaN                NaN                  NaN   \n852              NaN             NaN                NaN                  NaN   \n\n    clearance_body_part clearance_head clearance_left_foot   \n75                  NaN            NaN                 NaN  \\\n76                  NaN            NaN                 NaN   \n101                 NaN            NaN                 NaN   \n102                 NaN            NaN                 NaN   \n164                 NaN            NaN                 NaN   \n..                  ...            ...                 ...   \n478                 NaN            NaN                 NaN   \n646                 NaN            NaN                 NaN   \n647                 NaN            NaN                 NaN   \n851                 NaN            NaN                 NaN   \n852                 NaN            NaN                 NaN   \n\n    clearance_right_foot counterpress dribble_nutmeg dribble_outcome   \n75                   NaN          NaN            NaN             NaN  \\\n76                   NaN          NaN            NaN             NaN   \n101                  NaN          NaN            NaN             NaN   \n102                  NaN          NaN            NaN             NaN   \n164                  NaN          NaN            NaN             NaN   \n..                   ...          ...            ...             ...   \n478                  NaN          NaN            NaN             NaN   \n646                  NaN          NaN            NaN             NaN   \n647                  NaN          NaN            NaN             NaN   \n851                  NaN          NaN            NaN             NaN   \n852                  NaN          NaN            NaN             NaN   \n\n    duel_outcome duel_type  duration foul_committed_advantage   \n75           NaN       NaN  1.091719                      NaN  \\\n76           NaN       NaN  0.735411                      NaN   \n101          NaN       NaN  1.033475                      NaN   \n102          NaN       NaN  1.214850                      NaN   \n164          NaN       NaN  2.401201                      NaN   \n..           ...       ...       ...                      ...   \n478          NaN       NaN  1.658146                      NaN   \n646          NaN       NaN  2.243320                      NaN   \n647          NaN       NaN  1.381024                      NaN   \n851          NaN       NaN  1.028731                      NaN   \n852          NaN       NaN  2.170479                      NaN   \n\n    foul_committed_card foul_committed_type foul_won_advantage   \n75                  NaN                 NaN                NaN  \\\n76                  NaN                 NaN                NaN   \n101                 NaN                 NaN                NaN   \n102                 NaN                 NaN                NaN   \n164                 NaN                 NaN                NaN   \n..                  ...                 ...                ...   \n478                 NaN                 NaN                NaN   \n646                 NaN                 NaN                NaN   \n647                 NaN                 NaN                NaN   \n851                 NaN                 NaN                NaN   \n852                 NaN                 NaN                NaN   \n\n    foul_won_defensive goalkeeper_body_part goalkeeper_end_location   \n75                 NaN                  NaN                     NaN  \\\n76                 NaN                  NaN                     NaN   \n101                NaN                  NaN                     NaN   \n102                NaN                  NaN                     NaN   \n164                NaN                  NaN                     NaN   \n..                 ...                  ...                     ...   \n478                NaN                  NaN                     NaN   \n646                NaN                  NaN                     NaN   \n647                NaN                  NaN                     NaN   \n851                NaN                  NaN                     NaN   \n852                NaN                  NaN                     NaN   \n\n    goalkeeper_outcome goalkeeper_position goalkeeper_punched_out   \n75                 NaN                 NaN                    NaN  \\\n76                 NaN                 NaN                    NaN   \n101                NaN                 NaN                    NaN   \n102                NaN                 NaN                    NaN   \n164                NaN                 NaN                    NaN   \n..                 ...                 ...                    ...   \n478                NaN                 NaN                    NaN   \n646                NaN                 NaN                    NaN   \n647                NaN                 NaN                    NaN   \n851                NaN                 NaN                    NaN   \n852                NaN                 NaN                    NaN   \n\n    goalkeeper_technique goalkeeper_type   \n75                   NaN             NaN  \\\n76                   NaN             NaN   \n101                  NaN             NaN   \n102                  NaN             NaN   \n164                  NaN             NaN   \n..                   ...             ...   \n478                  NaN             NaN   \n646                  NaN             NaN   \n647                  NaN             NaN   \n851                  NaN             NaN   \n852                  NaN             NaN   \n\n                                       id  index interception_outcome   \n75   765d4ed1-bcb3-4313-a176-a9993db11767    263                  NaN  \\\n76   e5a83b17-eb20-4f82-b4d9-4e092b1cc684    266                  NaN   \n101  9cb9ce39-8472-4313-b31c-b1828ccf06ad    361                  NaN   \n102  88410e17-4c5a-4d21-b906-3a8d72d8a03f    364                  NaN   \n164  4a47d92c-4d6b-4167-b3c9-9514a2a780dd    588                  NaN   \n..                                    ...    ...                  ...   \n478  f4346e58-dcf4-43bd-8cdf-6b6c59e20c5b   1666                  NaN   \n646  0b916265-0914-4395-983b-c49c5076b8a2   2235                  NaN   \n647  ac5ee7ec-22ca-40ca-b56b-aa540aa42bb5   2239                  NaN   \n851  7d4886df-d3a0-4dc0-a020-07061b44c783   2931                  NaN   \n852  b40d9850-082b-449a-8546-8ecd5916208a   2934                  NaN   \n\n          location  match_id  minute off_camera  out pass_aerial_won   \n75    [120.0, 0.1]   3775648       5        NaN  NaN             NaN  \\\n76    [111.5, 5.6]   3775648       5        NaN  NaN             NaN   \n101    [48.2, 5.8]   3775648       7        NaN  NaN             NaN   \n102    [65.6, 4.6]   3775648       7        NaN  NaN             NaN   \n164   [85.9, 70.5]   3775648      13        NaN  NaN             NaN   \n..             ...       ...     ...        ...  ...             ...   \n478    [29.6, 6.5]   3764238      46        NaN  NaN             NaN   \n646   [83.7, 17.3]   3764238      61        NaN  NaN             NaN   \n647  [101.6, 12.3]   3764238      61        NaN  NaN             NaN   \n851   [81.3, 60.7]   3764238      86        NaN  NaN             NaN   \n852   [87.6, 73.5]   3764238      86        NaN  NaN             NaN   \n\n     pass_angle pass_assisted_shot_id pass_body_part pass_cross pass_cut_back   \n75     2.567288                   NaN     Right Foot        NaN           NaN  \\\n76     0.880005                   NaN      Left Foot        NaN           NaN   \n101   -0.190977                   NaN      Left Foot        NaN           NaN   \n102    1.123814                   NaN     Right Foot        NaN           NaN   \n164   -0.052781                   NaN     Right Foot        NaN           NaN   \n..          ...                   ...            ...        ...           ...   \n478   -0.139858                   NaN     Right Foot        NaN           NaN   \n646   -0.293494                   NaN     Right Foot        NaN           NaN   \n647   -1.683524                   NaN     Right Foot        NaN           NaN   \n851    1.247112                   NaN     Right Foot        NaN           NaN   \n852   -0.647392                   NaN     Right Foot        NaN           NaN   \n\n    pass_deflected pass_end_location pass_goal_assist  pass_height   \n75             NaN      [111.5, 5.6]              NaN  Ground Pass  \\\n76             NaN     [117.7, 13.1]              NaN  Ground Pass   \n101            NaN       [63.2, 2.9]              NaN  Ground Pass   \n102            NaN      [71.4, 16.7]              NaN  Ground Pass   \n164            NaN     [112.4, 69.1]              NaN  Ground Pass   \n..             ...               ...              ...          ...   \n478            NaN       [50.2, 3.6]              NaN  Ground Pass   \n646            NaN     [106.2, 10.5]              NaN  Ground Pass   \n647            NaN      [101.0, 7.0]              NaN  Ground Pass   \n851            NaN      [86.5, 76.2]              NaN  Ground Pass   \n852            NaN      [95.8, 67.3]              NaN  Ground Pass   \n\n    pass_inswinging  pass_length pass_miscommunication pass_no_touch   \n75              NaN    10.124228                   NaN           NaN  \\\n76              NaN     9.730879                   NaN           NaN   \n101             NaN    15.277761                   NaN           NaN   \n102             NaN    13.418271                   NaN           NaN   \n164             NaN    26.536955                   NaN           NaN   \n..              ...          ...                   ...           ...   \n478             NaN    20.803125                   NaN           NaN   \n646             NaN    23.505106                   NaN           NaN   \n647             NaN     5.333854                   NaN           NaN   \n851             NaN    16.349007                   NaN           NaN   \n852             NaN    10.280078                   NaN           NaN   \n\n    pass_outcome pass_outswinging           pass_recipient pass_shot_assist   \n75           NaN              NaN             Katie McCabe              NaN  \\\n76           NaN              NaN             Bethany Mead              NaN   \n101          NaN              NaN             Jordan Nobbs              NaN   \n102          NaN              NaN             Katie McCabe              NaN   \n164          NaN              NaN            Noelle Maritz              NaN   \n..           ...              ...                      ...              ...   \n478          NaN              NaN           Mayumi Pacheco              NaN   \n646          NaN              NaN       Caitlin Jade Foord              NaN   \n647          NaN              NaN             Jordan Nobbs              NaN   \n851          NaN              NaN   Cecilie Redisch Kvamme              NaN   \n852          NaN              NaN  Emily Louise van Egmond              NaN   \n\n    pass_straight pass_switch pass_technique pass_through_ball pass_type   \n75            NaN         NaN            NaN               NaN    Corner  \\\n76            NaN         NaN            NaN               NaN       NaN   \n101           NaN         NaN            NaN               NaN       NaN   \n102           NaN         NaN            NaN               NaN       NaN   \n164           NaN         NaN            NaN               NaN       NaN   \n..            ...         ...            ...               ...       ...   \n478           NaN         NaN            NaN               NaN       NaN   \n646           NaN         NaN            NaN               NaN       NaN   \n647           NaN         NaN            NaN               NaN       NaN   \n851           NaN         NaN            NaN               NaN       NaN   \n852           NaN         NaN            NaN               NaN       NaN   \n\n     period    play_pattern                   player  player_id   \n75        1     From Corner             Bethany Mead    15619.0  \\\n76        1     From Corner             Katie McCabe    15620.0   \n101       1   From Throw In             Katie McCabe    15620.0   \n102       1   From Throw In             Jordan Nobbs    10192.0   \n164       1   From Throw In     Danielle van de Donk    10658.0   \n..      ...             ...                      ...        ...   \n478       2    Regular Play              So-Hyun Cho    22798.0   \n646       2  From Goal Kick             Jordan Nobbs    10192.0   \n647       2  From Goal Kick       Caitlin Jade Foord    11338.0   \n851       2    Regular Play  Emily Louise van Egmond     5076.0   \n852       2    Regular Play   Cecilie Redisch Kvamme    31553.0   \n\n                     position  possession      possession_team   \n75             Center Forward          11          Arsenal WFC  \\\n76                  Left Back          11          Arsenal WFC   \n101                 Left Back          14          Arsenal WFC   \n102                Right Wing          14          Arsenal WFC   \n164     Right Center Midfield          25          Arsenal WFC   \n..                        ...         ...                  ...   \n478     Right Center Midfield          92  West Ham United LFC   \n646                Right Wing         119          Arsenal WFC   \n647  Right Defensive Midfield         119          Arsenal WFC   \n851      Left Center Midfield         170  West Ham United LFC   \n852                Right Back         170  West Ham United LFC   \n\n     possession_team_id                          related_events  second   \n75                  968  [870653a7-df88-4d1f-9787-c0df438f9998]      12  \\\n76                  968  [cff28b43-c386-4836-9168-b232cb41043d]      15   \n101                 968  [94e9d478-9a11-4a6a-8bdd-ec71351e6809]      32   \n102                 968  [f560c369-b90a-45c2-b639-4dcb6b2fb659]      34   \n164                 968  [e3c48872-0674-4aa7-8155-a6ec30e12301]      44   \n..                  ...                                     ...     ...   \n478                 972  [2fa7a685-e1ee-4574-af2b-f87e96f14595]       9   \n646                 968  [e86fc0db-fd62-4196-bea1-c67224dd2249]      46   \n647                 968  [9fb5fa98-e0f0-48e7-81d5-75764ab2c42e]      50   \n851                 972  [25bea2d2-0a4d-4cea-a0eb-27038d989515]      22   \n852                 972  [114ae1c0-2546-4ad3-8bba-97c8272c66c3]      24   \n\n    shot_aerial_won shot_body_part shot_end_location shot_first_time   \n75              NaN            NaN               NaN             NaN  \\\n76              NaN            NaN               NaN             NaN   \n101             NaN            NaN               NaN             NaN   \n102             NaN            NaN               NaN             NaN   \n164             NaN            NaN               NaN             NaN   \n..              ...            ...               ...             ...   \n478             NaN            NaN               NaN             NaN   \n646             NaN            NaN               NaN             NaN   \n647             NaN            NaN               NaN             NaN   \n851             NaN            NaN               NaN             NaN   \n852             NaN            NaN               NaN             NaN   \n\n    shot_freeze_frame shot_key_pass_id shot_one_on_one shot_open_goal   \n75                NaN              NaN             NaN            NaN  \\\n76                NaN              NaN             NaN            NaN   \n101               NaN              NaN             NaN            NaN   \n102               NaN              NaN             NaN            NaN   \n164               NaN              NaN             NaN            NaN   \n..                ...              ...             ...            ...   \n478               NaN              NaN             NaN            NaN   \n646               NaN              NaN             NaN            NaN   \n647               NaN              NaN             NaN            NaN   \n851               NaN              NaN             NaN            NaN   \n852               NaN              NaN             NaN            NaN   \n\n    shot_outcome  shot_statsbomb_xg shot_technique shot_type   \n75           NaN                NaN            NaN       NaN  \\\n76           NaN                NaN            NaN       NaN   \n101          NaN                NaN            NaN       NaN   \n102          NaN                NaN            NaN       NaN   \n164          NaN                NaN            NaN       NaN   \n..           ...                ...            ...       ...   \n478          NaN                NaN            NaN       NaN   \n646          NaN                NaN            NaN       NaN   \n647          NaN                NaN            NaN       NaN   \n851          NaN                NaN            NaN       NaN   \n852          NaN                NaN            NaN       NaN   \n\n    substitution_outcome substitution_replacement tactics   \n75                   NaN                      NaN     NaN  \\\n76                   NaN                      NaN     NaN   \n101                  NaN                      NaN     NaN   \n102                  NaN                      NaN     NaN   \n164                  NaN                      NaN     NaN   \n..                   ...                      ...     ...   \n478                  NaN                      NaN     NaN   \n646                  NaN                      NaN     NaN   \n647                  NaN                      NaN     NaN   \n851                  NaN                      NaN     NaN   \n852                  NaN                      NaN     NaN   \n\n                    team  team_id     timestamp  type under_pressure   \n75           Arsenal WFC      968  00:05:12.977  Pass            NaN  \\\n76           Arsenal WFC      968  00:05:15.638  Pass            NaN   \n101          Arsenal WFC      968  00:07:32.550  Pass            NaN   \n102          Arsenal WFC      968  00:07:34.424  Pass            NaN   \n164          Arsenal WFC      968  00:13:44.629  Pass            NaN   \n..                   ...      ...           ...   ...            ...   \n478  West Ham United LFC      972  00:01:09.018  Pass            NaN   \n646          Arsenal WFC      968  00:16:46.369  Pass            NaN   \n647          Arsenal WFC      968  00:16:50.511  Pass            NaN   \n851  West Ham United LFC      972  00:41:22.836  Pass            NaN   \n852  West Ham United LFC      972  00:41:24.202  Pass            NaN   \n\n     time_in_secs  x_start  y_start  x_end  y_end dribble_overrun   \n75            312    120.0      0.1  111.5    5.6             NaN  \\\n76            315    111.5      5.6  117.7   13.1             NaN   \n101           452     48.2      5.8   63.2    2.9             NaN   \n102           454     65.6      4.6   71.4   16.7             NaN   \n164           824     85.9     70.5  112.4   69.1             NaN   \n..            ...      ...      ...    ...    ...             ...   \n478          2769     29.6      6.5   50.2    3.6             NaN   \n646          3706     83.7     17.3  106.2   10.5             NaN   \n647          3710    101.6     12.3  101.0    7.0             NaN   \n851          5182     81.3     60.7   86.5   76.2             NaN   \n852          5184     87.6     73.5   95.8   67.3             NaN   \n\n    injury_stoppage_in_chain clearance_other goalkeeper_shot_saved_off_target   \n75                       NaN             NaN                              NaN  \\\n76                       NaN             NaN                              NaN   \n101                      NaN             NaN                              NaN   \n102                      NaN             NaN                              NaN   \n164                      NaN             NaN                              NaN   \n..                       ...             ...                              ...   \n478                      NaN             NaN                              NaN   \n646                      NaN             NaN                              NaN   \n647                      NaN             NaN                              NaN   \n851                      NaN             NaN                              NaN   \n852                      NaN             NaN                              NaN   \n\n    shot_deflected shot_saved_off_target foul_committed_offensive   \n75             NaN                   NaN                      NaN  \\\n76             NaN                   NaN                      NaN   \n101            NaN                   NaN                      NaN   \n102            NaN                   NaN                      NaN   \n164            NaN                   NaN                      NaN   \n..             ...                   ...                      ...   \n478            NaN                   NaN                      NaN   \n646            NaN                   NaN                      NaN   \n647            NaN                   NaN                      NaN   \n851            NaN                   NaN                      NaN   \n852            NaN                   NaN                      NaN   \n\n    foul_committed_penalty foul_won_penalty miscontrol_aerial_won   \n75                     NaN              NaN                   NaN  \\\n76                     NaN              NaN                   NaN   \n101                    NaN              NaN                   NaN   \n102                    NaN              NaN                   NaN   \n164                    NaN              NaN                   NaN   \n..                     ...              ...                   ...   \n478                    NaN              NaN                   NaN   \n646                    NaN              NaN                   NaN   \n647                    NaN              NaN                   NaN   \n851                    NaN              NaN                   NaN   \n852                    NaN              NaN                   NaN   \n\n    shot_redirect ball_recovery_offensive block_save_block   \n75            NaN                     NaN              NaN  \\\n76            NaN                     NaN              NaN   \n101           NaN                     NaN              NaN   \n102           NaN                     NaN              NaN   \n164           NaN                     NaN              NaN   \n..            ...                     ...              ...   \n478           NaN                     NaN              NaN   \n646           NaN                     NaN              NaN   \n647           NaN                     NaN              NaN   \n851           NaN                     NaN              NaN   \n852           NaN                     NaN              NaN   \n\n    goalkeeper_success_in_play bad_behaviour_card dribble_no_touch   \n75                         NaN                NaN              NaN  \\\n76                         NaN                NaN              NaN   \n101                        NaN                NaN              NaN   \n102                        NaN                NaN              NaN   \n164                        NaN                NaN              NaN   \n..                         ...                ...              ...   \n478                        NaN                NaN              NaN   \n646                        NaN                NaN              NaN   \n647                        NaN                NaN              NaN   \n851                        NaN                NaN              NaN   \n852                        NaN                NaN              NaN   \n\n    shot_follows_dribble goalkeeper_saved_to_post half_start_late_video_start   \n75                   NaN                      NaN                         NaN  \\\n76                   NaN                      NaN                         NaN   \n101                  NaN                      NaN                         NaN   \n102                  NaN                      NaN                         NaN   \n164                  NaN                      NaN                         NaN   \n..                   ...                      ...                         ...   \n478                  NaN                      NaN                         NaN   \n646                  NaN                      NaN                         NaN   \n647                  NaN                      NaN                         NaN   \n851                  NaN                      NaN                         NaN   \n852                  NaN                      NaN                         NaN   \n\n    goalkeeper_shot_saved_to_post shot_saved_to_post goalkeeper_lost_out   \n75                            NaN                NaN                 NaN  \\\n76                            NaN                NaN                 NaN   \n101                           NaN                NaN                 NaN   \n102                           NaN                NaN                 NaN   \n164                           NaN                NaN                 NaN   \n..                            ...                ...                 ...   \n478                           NaN                NaN                 NaN   \n646                           NaN                NaN                 NaN   \n647                           NaN                NaN                 NaN   \n851                           NaN                NaN                 NaN   \n852                           NaN                NaN                 NaN   \n\n    goalkeeper_lost_in_play  \n75                      NaN  \n76                      NaN  \n101                     NaN  \n102                     NaN  \n164                     NaN  \n..                      ...  \n478                     NaN  \n646                     NaN  \n647                     NaN  \n851                     NaN  \n852                     NaN  \n\n[1258 rows x 118 columns]",
      "text/html": "<div>\n<style scoped>\n    .dataframe tbody tr th:only-of-type {\n        vertical-align: middle;\n    }\n\n    .dataframe tbody tr th {\n        vertical-align: top;\n    }\n\n    .dataframe thead th {\n        text-align: right;\n    }\n</style>\n<table border=\"1\" class=\"dataframe\">\n  <thead>\n    <tr style=\"text-align: right;\">\n      <th></th>\n      <th>50_50</th>\n      <th>ball_receipt_outcome</th>\n      <th>ball_recovery_recovery_failure</th>\n      <th>block_deflection</th>\n      <th>block_offensive</th>\n      <th>carry_end_location</th>\n      <th>clearance_aerial_won</th>\n      <th>clearance_body_part</th>\n      <th>clearance_head</th>\n      <th>clearance_left_foot</th>\n      <th>clearance_right_foot</th>\n      <th>counterpress</th>\n      <th>dribble_nutmeg</th>\n      <th>dribble_outcome</th>\n      <th>duel_outcome</th>\n      <th>duel_type</th>\n      <th>duration</th>\n      <th>foul_committed_advantage</th>\n      <th>foul_committed_card</th>\n      <th>foul_committed_type</th>\n      <th>foul_won_advantage</th>\n      <th>foul_won_defensive</th>\n      <th>goalkeeper_body_part</th>\n      <th>goalkeeper_end_location</th>\n      <th>goalkeeper_outcome</th>\n      <th>goalkeeper_position</th>\n      <th>goalkeeper_punched_out</th>\n      <th>goalkeeper_technique</th>\n      <th>goalkeeper_type</th>\n      <th>id</th>\n      <th>index</th>\n      <th>interception_outcome</th>\n      <th>location</th>\n      <th>match_id</th>\n      <th>minute</th>\n      <th>off_camera</th>\n      <th>out</th>\n      <th>pass_aerial_won</th>\n      <th>pass_angle</th>\n      <th>pass_assisted_shot_id</th>\n      <th>pass_body_part</th>\n      <th>pass_cross</th>\n      <th>pass_cut_back</th>\n      <th>pass_deflected</th>\n      <th>pass_end_location</th>\n      <th>pass_goal_assist</th>\n      <th>pass_height</th>\n      <th>pass_inswinging</th>\n      <th>pass_length</th>\n      <th>pass_miscommunication</th>\n      <th>pass_no_touch</th>\n      <th>pass_outcome</th>\n      <th>pass_outswinging</th>\n      <th>pass_recipient</th>\n      <th>pass_shot_assist</th>\n      <th>pass_straight</th>\n      <th>pass_switch</th>\n      <th>pass_technique</th>\n      <th>pass_through_ball</th>\n      <th>pass_type</th>\n      <th>period</th>\n      <th>play_pattern</th>\n      <th>player</th>\n      <th>player_id</th>\n      <th>position</th>\n      <th>possession</th>\n      <th>possession_team</th>\n      <th>possession_team_id</th>\n      <th>related_events</th>\n      <th>second</th>\n      <th>shot_aerial_won</th>\n      <th>shot_body_part</th>\n      <th>shot_end_location</th>\n      <th>shot_first_time</th>\n      <th>shot_freeze_frame</th>\n      <th>shot_key_pass_id</th>\n      <th>shot_one_on_one</th>\n      <th>shot_open_goal</th>\n      <th>shot_outcome</th>\n      <th>shot_statsbomb_xg</th>\n      <th>shot_technique</th>\n      <th>shot_type</th>\n      <th>substitution_outcome</th>\n      <th>substitution_replacement</th>\n      <th>tactics</th>\n      <th>team</th>\n      <th>team_id</th>\n      <th>timestamp</th>\n      <th>type</th>\n      <th>under_pressure</th>\n      <th>time_in_secs</th>\n      <th>x_start</th>\n      <th>y_start</th>\n      <th>x_end</th>\n      <th>y_end</th>\n      <th>dribble_overrun</th>\n      <th>injury_stoppage_in_chain</th>\n      <th>clearance_other</th>\n      <th>goalkeeper_shot_saved_off_target</th>\n      <th>shot_deflected</th>\n      <th>shot_saved_off_target</th>\n      <th>foul_committed_offensive</th>\n      <th>foul_committed_penalty</th>\n      <th>foul_won_penalty</th>\n      <th>miscontrol_aerial_won</th>\n      <th>shot_redirect</th>\n      <th>ball_recovery_offensive</th>\n      <th>block_save_block</th>\n      <th>goalkeeper_success_in_play</th>\n      <th>bad_behaviour_card</th>\n      <th>dribble_no_touch</th>\n      <th>shot_follows_dribble</th>\n      <th>goalkeeper_saved_to_post</th>\n      <th>half_start_late_video_start</th>\n      <th>goalkeeper_shot_saved_to_post</th>\n      <th>shot_saved_to_post</th>\n      <th>goalkeeper_lost_out</th>\n      <th>goalkeeper_lost_in_play</th>\n    </tr>\n  </thead>\n  <tbody>\n    <tr>\n      <th>75</th>\n      <td>NaN</td>\n      <td>NaN</td>\n      <td>NaN</td>\n      <td>NaN</td>\n      <td>NaN</td>\n      <td>NaN</td>\n      <td>NaN</td>\n      <td>NaN</td>\n      <td>NaN</td>\n      <td>NaN</td>\n      <td>NaN</td>\n      <td>NaN</td>\n      <td>NaN</td>\n      <td>NaN</td>\n      <td>NaN</td>\n      <td>NaN</td>\n      <td>1.091719</td>\n      <td>NaN</td>\n      <td>NaN</td>\n      <td>NaN</td>\n      <td>NaN</td>\n      <td>NaN</td>\n      <td>NaN</td>\n      <td>NaN</td>\n      <td>NaN</td>\n      <td>NaN</td>\n      <td>NaN</td>\n      <td>NaN</td>\n      <td>NaN</td>\n      <td>765d4ed1-bcb3-4313-a176-a9993db11767</td>\n      <td>263</td>\n      <td>NaN</td>\n      <td>[120.0, 0.1]</td>\n      <td>3775648</td>\n      <td>5</td>\n      <td>NaN</td>\n      <td>NaN</td>\n      <td>NaN</td>\n      <td>2.567288</td>\n      <td>NaN</td>\n      <td>Right Foot</td>\n      <td>NaN</td>\n      <td>NaN</td>\n      <td>NaN</td>\n      <td>[111.5, 5.6]</td>\n      <td>NaN</td>\n      <td>Ground Pass</td>\n      <td>NaN</td>\n      <td>10.124228</td>\n      <td>NaN</td>\n      <td>NaN</td>\n      <td>NaN</td>\n      <td>NaN</td>\n      <td>Katie McCabe</td>\n      <td>NaN</td>\n      <td>NaN</td>\n      <td>NaN</td>\n      <td>NaN</td>\n      <td>NaN</td>\n      <td>Corner</td>\n      <td>1</td>\n      <td>From Corner</td>\n      <td>Bethany Mead</td>\n      <td>15619.0</td>\n      <td>Center Forward</td>\n      <td>11</td>\n      <td>Arsenal WFC</td>\n      <td>968</td>\n      <td>[870653a7-df88-4d1f-9787-c0df438f9998]</td>\n      <td>12</td>\n      <td>NaN</td>\n      <td>NaN</td>\n      <td>NaN</td>\n      <td>NaN</td>\n      <td>NaN</td>\n      <td>NaN</td>\n      <td>NaN</td>\n      <td>NaN</td>\n      <td>NaN</td>\n      <td>NaN</td>\n      <td>NaN</td>\n      <td>NaN</td>\n      <td>NaN</td>\n      <td>NaN</td>\n      <td>NaN</td>\n      <td>Arsenal WFC</td>\n      <td>968</td>\n      <td>00:05:12.977</td>\n      <td>Pass</td>\n      <td>NaN</td>\n      <td>312</td>\n      <td>120.0</td>\n      <td>0.1</td>\n      <td>111.5</td>\n      <td>5.6</td>\n      <td>NaN</td>\n      <td>NaN</td>\n      <td>NaN</td>\n      <td>NaN</td>\n      <td>NaN</td>\n      <td>NaN</td>\n      <td>NaN</td>\n      <td>NaN</td>\n      <td>NaN</td>\n      <td>NaN</td>\n      <td>NaN</td>\n      <td>NaN</td>\n      <td>NaN</td>\n      <td>NaN</td>\n      <td>NaN</td>\n      <td>NaN</td>\n      <td>NaN</td>\n      <td>NaN</td>\n      <td>NaN</td>\n      <td>NaN</td>\n      <td>NaN</td>\n      <td>NaN</td>\n      <td>NaN</td>\n    </tr>\n    <tr>\n      <th>76</th>\n      <td>NaN</td>\n      <td>NaN</td>\n      <td>NaN</td>\n      <td>NaN</td>\n      <td>NaN</td>\n      <td>NaN</td>\n      <td>NaN</td>\n      <td>NaN</td>\n      <td>NaN</td>\n      <td>NaN</td>\n      <td>NaN</td>\n      <td>NaN</td>\n      <td>NaN</td>\n      <td>NaN</td>\n      <td>NaN</td>\n      <td>NaN</td>\n      <td>0.735411</td>\n      <td>NaN</td>\n      <td>NaN</td>\n      <td>NaN</td>\n      <td>NaN</td>\n      <td>NaN</td>\n      <td>NaN</td>\n      <td>NaN</td>\n      <td>NaN</td>\n      <td>NaN</td>\n      <td>NaN</td>\n      <td>NaN</td>\n      <td>NaN</td>\n      <td>e5a83b17-eb20-4f82-b4d9-4e092b1cc684</td>\n      <td>266</td>\n      <td>NaN</td>\n      <td>[111.5, 5.6]</td>\n      <td>3775648</td>\n      <td>5</td>\n      <td>NaN</td>\n      <td>NaN</td>\n      <td>NaN</td>\n      <td>0.880005</td>\n      <td>NaN</td>\n      <td>Left Foot</td>\n      <td>NaN</td>\n      <td>NaN</td>\n      <td>NaN</td>\n      <td>[117.7, 13.1]</td>\n      <td>NaN</td>\n      <td>Ground Pass</td>\n      <td>NaN</td>\n      <td>9.730879</td>\n      <td>NaN</td>\n      <td>NaN</td>\n      <td>NaN</td>\n      <td>NaN</td>\n      <td>Bethany Mead</td>\n      <td>NaN</td>\n      <td>NaN</td>\n      <td>NaN</td>\n      <td>NaN</td>\n      <td>NaN</td>\n      <td>NaN</td>\n      <td>1</td>\n      <td>From Corner</td>\n      <td>Katie McCabe</td>\n      <td>15620.0</td>\n      <td>Left Back</td>\n      <td>11</td>\n      <td>Arsenal WFC</td>\n      <td>968</td>\n      <td>[cff28b43-c386-4836-9168-b232cb41043d]</td>\n      <td>15</td>\n      <td>NaN</td>\n      <td>NaN</td>\n      <td>NaN</td>\n      <td>NaN</td>\n      <td>NaN</td>\n      <td>NaN</td>\n      <td>NaN</td>\n      <td>NaN</td>\n      <td>NaN</td>\n      <td>NaN</td>\n      <td>NaN</td>\n      <td>NaN</td>\n      <td>NaN</td>\n      <td>NaN</td>\n      <td>NaN</td>\n      <td>Arsenal WFC</td>\n      <td>968</td>\n      <td>00:05:15.638</td>\n      <td>Pass</td>\n      <td>NaN</td>\n      <td>315</td>\n      <td>111.5</td>\n      <td>5.6</td>\n      <td>117.7</td>\n      <td>13.1</td>\n      <td>NaN</td>\n      <td>NaN</td>\n      <td>NaN</td>\n      <td>NaN</td>\n      <td>NaN</td>\n      <td>NaN</td>\n      <td>NaN</td>\n      <td>NaN</td>\n      <td>NaN</td>\n      <td>NaN</td>\n      <td>NaN</td>\n      <td>NaN</td>\n      <td>NaN</td>\n      <td>NaN</td>\n      <td>NaN</td>\n      <td>NaN</td>\n      <td>NaN</td>\n      <td>NaN</td>\n      <td>NaN</td>\n      <td>NaN</td>\n      <td>NaN</td>\n      <td>NaN</td>\n      <td>NaN</td>\n    </tr>\n    <tr>\n      <th>101</th>\n      <td>NaN</td>\n      <td>NaN</td>\n      <td>NaN</td>\n      <td>NaN</td>\n      <td>NaN</td>\n      <td>NaN</td>\n      <td>NaN</td>\n      <td>NaN</td>\n      <td>NaN</td>\n      <td>NaN</td>\n      <td>NaN</td>\n      <td>NaN</td>\n      <td>NaN</td>\n      <td>NaN</td>\n      <td>NaN</td>\n      <td>NaN</td>\n      <td>1.033475</td>\n      <td>NaN</td>\n      <td>NaN</td>\n      <td>NaN</td>\n      <td>NaN</td>\n      <td>NaN</td>\n      <td>NaN</td>\n      <td>NaN</td>\n      <td>NaN</td>\n      <td>NaN</td>\n      <td>NaN</td>\n      <td>NaN</td>\n      <td>NaN</td>\n      <td>9cb9ce39-8472-4313-b31c-b1828ccf06ad</td>\n      <td>361</td>\n      <td>NaN</td>\n      <td>[48.2, 5.8]</td>\n      <td>3775648</td>\n      <td>7</td>\n      <td>NaN</td>\n      <td>NaN</td>\n      <td>NaN</td>\n      <td>-0.190977</td>\n      <td>NaN</td>\n      <td>Left Foot</td>\n      <td>NaN</td>\n      <td>NaN</td>\n      <td>NaN</td>\n      <td>[63.2, 2.9]</td>\n      <td>NaN</td>\n      <td>Ground Pass</td>\n      <td>NaN</td>\n      <td>15.277761</td>\n      <td>NaN</td>\n      <td>NaN</td>\n      <td>NaN</td>\n      <td>NaN</td>\n      <td>Jordan Nobbs</td>\n      <td>NaN</td>\n      <td>NaN</td>\n      <td>NaN</td>\n      <td>NaN</td>\n      <td>NaN</td>\n      <td>NaN</td>\n      <td>1</td>\n      <td>From Throw In</td>\n      <td>Katie McCabe</td>\n      <td>15620.0</td>\n      <td>Left Back</td>\n      <td>14</td>\n      <td>Arsenal WFC</td>\n      <td>968</td>\n      <td>[94e9d478-9a11-4a6a-8bdd-ec71351e6809]</td>\n      <td>32</td>\n      <td>NaN</td>\n      <td>NaN</td>\n      <td>NaN</td>\n      <td>NaN</td>\n      <td>NaN</td>\n      <td>NaN</td>\n      <td>NaN</td>\n      <td>NaN</td>\n      <td>NaN</td>\n      <td>NaN</td>\n      <td>NaN</td>\n      <td>NaN</td>\n      <td>NaN</td>\n      <td>NaN</td>\n      <td>NaN</td>\n      <td>Arsenal WFC</td>\n      <td>968</td>\n      <td>00:07:32.550</td>\n      <td>Pass</td>\n      <td>NaN</td>\n      <td>452</td>\n      <td>48.2</td>\n      <td>5.8</td>\n      <td>63.2</td>\n      <td>2.9</td>\n      <td>NaN</td>\n      <td>NaN</td>\n      <td>NaN</td>\n      <td>NaN</td>\n      <td>NaN</td>\n      <td>NaN</td>\n      <td>NaN</td>\n      <td>NaN</td>\n      <td>NaN</td>\n      <td>NaN</td>\n      <td>NaN</td>\n      <td>NaN</td>\n      <td>NaN</td>\n      <td>NaN</td>\n      <td>NaN</td>\n      <td>NaN</td>\n      <td>NaN</td>\n      <td>NaN</td>\n      <td>NaN</td>\n      <td>NaN</td>\n      <td>NaN</td>\n      <td>NaN</td>\n      <td>NaN</td>\n    </tr>\n    <tr>\n      <th>102</th>\n      <td>NaN</td>\n      <td>NaN</td>\n      <td>NaN</td>\n      <td>NaN</td>\n      <td>NaN</td>\n      <td>NaN</td>\n      <td>NaN</td>\n      <td>NaN</td>\n      <td>NaN</td>\n      <td>NaN</td>\n      <td>NaN</td>\n      <td>NaN</td>\n      <td>NaN</td>\n      <td>NaN</td>\n      <td>NaN</td>\n      <td>NaN</td>\n      <td>1.214850</td>\n      <td>NaN</td>\n      <td>NaN</td>\n      <td>NaN</td>\n      <td>NaN</td>\n      <td>NaN</td>\n      <td>NaN</td>\n      <td>NaN</td>\n      <td>NaN</td>\n      <td>NaN</td>\n      <td>NaN</td>\n      <td>NaN</td>\n      <td>NaN</td>\n      <td>88410e17-4c5a-4d21-b906-3a8d72d8a03f</td>\n      <td>364</td>\n      <td>NaN</td>\n      <td>[65.6, 4.6]</td>\n      <td>3775648</td>\n      <td>7</td>\n      <td>NaN</td>\n      <td>NaN</td>\n      <td>NaN</td>\n      <td>1.123814</td>\n      <td>NaN</td>\n      <td>Right Foot</td>\n      <td>NaN</td>\n      <td>NaN</td>\n      <td>NaN</td>\n      <td>[71.4, 16.7]</td>\n      <td>NaN</td>\n      <td>Ground Pass</td>\n      <td>NaN</td>\n      <td>13.418271</td>\n      <td>NaN</td>\n      <td>NaN</td>\n      <td>NaN</td>\n      <td>NaN</td>\n      <td>Katie McCabe</td>\n      <td>NaN</td>\n      <td>NaN</td>\n      <td>NaN</td>\n      <td>NaN</td>\n      <td>NaN</td>\n      <td>NaN</td>\n      <td>1</td>\n      <td>From Throw In</td>\n      <td>Jordan Nobbs</td>\n      <td>10192.0</td>\n      <td>Right Wing</td>\n      <td>14</td>\n      <td>Arsenal WFC</td>\n      <td>968</td>\n      <td>[f560c369-b90a-45c2-b639-4dcb6b2fb659]</td>\n      <td>34</td>\n      <td>NaN</td>\n      <td>NaN</td>\n      <td>NaN</td>\n      <td>NaN</td>\n      <td>NaN</td>\n      <td>NaN</td>\n      <td>NaN</td>\n      <td>NaN</td>\n      <td>NaN</td>\n      <td>NaN</td>\n      <td>NaN</td>\n      <td>NaN</td>\n      <td>NaN</td>\n      <td>NaN</td>\n      <td>NaN</td>\n      <td>Arsenal WFC</td>\n      <td>968</td>\n      <td>00:07:34.424</td>\n      <td>Pass</td>\n      <td>NaN</td>\n      <td>454</td>\n      <td>65.6</td>\n      <td>4.6</td>\n      <td>71.4</td>\n      <td>16.7</td>\n      <td>NaN</td>\n      <td>NaN</td>\n      <td>NaN</td>\n      <td>NaN</td>\n      <td>NaN</td>\n      <td>NaN</td>\n      <td>NaN</td>\n      <td>NaN</td>\n      <td>NaN</td>\n      <td>NaN</td>\n      <td>NaN</td>\n      <td>NaN</td>\n      <td>NaN</td>\n      <td>NaN</td>\n      <td>NaN</td>\n      <td>NaN</td>\n      <td>NaN</td>\n      <td>NaN</td>\n      <td>NaN</td>\n      <td>NaN</td>\n      <td>NaN</td>\n      <td>NaN</td>\n      <td>NaN</td>\n    </tr>\n    <tr>\n      <th>164</th>\n      <td>NaN</td>\n      <td>NaN</td>\n      <td>NaN</td>\n      <td>NaN</td>\n      <td>NaN</td>\n      <td>NaN</td>\n      <td>NaN</td>\n      <td>NaN</td>\n      <td>NaN</td>\n      <td>NaN</td>\n      <td>NaN</td>\n      <td>NaN</td>\n      <td>NaN</td>\n      <td>NaN</td>\n      <td>NaN</td>\n      <td>NaN</td>\n      <td>2.401201</td>\n      <td>NaN</td>\n      <td>NaN</td>\n      <td>NaN</td>\n      <td>NaN</td>\n      <td>NaN</td>\n      <td>NaN</td>\n      <td>NaN</td>\n      <td>NaN</td>\n      <td>NaN</td>\n      <td>NaN</td>\n      <td>NaN</td>\n      <td>NaN</td>\n      <td>4a47d92c-4d6b-4167-b3c9-9514a2a780dd</td>\n      <td>588</td>\n      <td>NaN</td>\n      <td>[85.9, 70.5]</td>\n      <td>3775648</td>\n      <td>13</td>\n      <td>NaN</td>\n      <td>NaN</td>\n      <td>NaN</td>\n      <td>-0.052781</td>\n      <td>NaN</td>\n      <td>Right Foot</td>\n      <td>NaN</td>\n      <td>NaN</td>\n      <td>NaN</td>\n      <td>[112.4, 69.1]</td>\n      <td>NaN</td>\n      <td>Ground Pass</td>\n      <td>NaN</td>\n      <td>26.536955</td>\n      <td>NaN</td>\n      <td>NaN</td>\n      <td>NaN</td>\n      <td>NaN</td>\n      <td>Noelle Maritz</td>\n      <td>NaN</td>\n      <td>NaN</td>\n      <td>NaN</td>\n      <td>NaN</td>\n      <td>NaN</td>\n      <td>NaN</td>\n      <td>1</td>\n      <td>From Throw In</td>\n      <td>Danielle van de Donk</td>\n      <td>10658.0</td>\n      <td>Right Center Midfield</td>\n      <td>25</td>\n      <td>Arsenal WFC</td>\n      <td>968</td>\n      <td>[e3c48872-0674-4aa7-8155-a6ec30e12301]</td>\n      <td>44</td>\n      <td>NaN</td>\n      <td>NaN</td>\n      <td>NaN</td>\n      <td>NaN</td>\n      <td>NaN</td>\n      <td>NaN</td>\n      <td>NaN</td>\n      <td>NaN</td>\n      <td>NaN</td>\n      <td>NaN</td>\n      <td>NaN</td>\n      <td>NaN</td>\n      <td>NaN</td>\n      <td>NaN</td>\n      <td>NaN</td>\n      <td>Arsenal WFC</td>\n      <td>968</td>\n      <td>00:13:44.629</td>\n      <td>Pass</td>\n      <td>NaN</td>\n      <td>824</td>\n      <td>85.9</td>\n      <td>70.5</td>\n      <td>112.4</td>\n      <td>69.1</td>\n      <td>NaN</td>\n      <td>NaN</td>\n      <td>NaN</td>\n      <td>NaN</td>\n      <td>NaN</td>\n      <td>NaN</td>\n      <td>NaN</td>\n      <td>NaN</td>\n      <td>NaN</td>\n      <td>NaN</td>\n      <td>NaN</td>\n      <td>NaN</td>\n      <td>NaN</td>\n      <td>NaN</td>\n      <td>NaN</td>\n      <td>NaN</td>\n      <td>NaN</td>\n      <td>NaN</td>\n      <td>NaN</td>\n      <td>NaN</td>\n      <td>NaN</td>\n      <td>NaN</td>\n      <td>NaN</td>\n    </tr>\n    <tr>\n      <th>...</th>\n      <td>...</td>\n      <td>...</td>\n      <td>...</td>\n      <td>...</td>\n      <td>...</td>\n      <td>...</td>\n      <td>...</td>\n      <td>...</td>\n      <td>...</td>\n      <td>...</td>\n      <td>...</td>\n      <td>...</td>\n      <td>...</td>\n      <td>...</td>\n      <td>...</td>\n      <td>...</td>\n      <td>...</td>\n      <td>...</td>\n      <td>...</td>\n      <td>...</td>\n      <td>...</td>\n      <td>...</td>\n      <td>...</td>\n      <td>...</td>\n      <td>...</td>\n      <td>...</td>\n      <td>...</td>\n      <td>...</td>\n      <td>...</td>\n      <td>...</td>\n      <td>...</td>\n      <td>...</td>\n      <td>...</td>\n      <td>...</td>\n      <td>...</td>\n      <td>...</td>\n      <td>...</td>\n      <td>...</td>\n      <td>...</td>\n      <td>...</td>\n      <td>...</td>\n      <td>...</td>\n      <td>...</td>\n      <td>...</td>\n      <td>...</td>\n      <td>...</td>\n      <td>...</td>\n      <td>...</td>\n      <td>...</td>\n      <td>...</td>\n      <td>...</td>\n      <td>...</td>\n      <td>...</td>\n      <td>...</td>\n      <td>...</td>\n      <td>...</td>\n      <td>...</td>\n      <td>...</td>\n      <td>...</td>\n      <td>...</td>\n      <td>...</td>\n      <td>...</td>\n      <td>...</td>\n      <td>...</td>\n      <td>...</td>\n      <td>...</td>\n      <td>...</td>\n      <td>...</td>\n      <td>...</td>\n      <td>...</td>\n      <td>...</td>\n      <td>...</td>\n      <td>...</td>\n      <td>...</td>\n      <td>...</td>\n      <td>...</td>\n      <td>...</td>\n      <td>...</td>\n      <td>...</td>\n      <td>...</td>\n      <td>...</td>\n      <td>...</td>\n      <td>...</td>\n      <td>...</td>\n      <td>...</td>\n      <td>...</td>\n      <td>...</td>\n      <td>...</td>\n      <td>...</td>\n      <td>...</td>\n      <td>...</td>\n      <td>...</td>\n      <td>...</td>\n      <td>...</td>\n      <td>...</td>\n      <td>...</td>\n      <td>...</td>\n      <td>...</td>\n      <td>...</td>\n      <td>...</td>\n      <td>...</td>\n      <td>...</td>\n      <td>...</td>\n      <td>...</td>\n      <td>...</td>\n      <td>...</td>\n      <td>...</td>\n      <td>...</td>\n      <td>...</td>\n      <td>...</td>\n      <td>...</td>\n      <td>...</td>\n      <td>...</td>\n      <td>...</td>\n      <td>...</td>\n      <td>...</td>\n      <td>...</td>\n      <td>...</td>\n    </tr>\n    <tr>\n      <th>478</th>\n      <td>NaN</td>\n      <td>NaN</td>\n      <td>NaN</td>\n      <td>NaN</td>\n      <td>NaN</td>\n      <td>NaN</td>\n      <td>NaN</td>\n      <td>NaN</td>\n      <td>NaN</td>\n      <td>NaN</td>\n      <td>NaN</td>\n      <td>NaN</td>\n      <td>NaN</td>\n      <td>NaN</td>\n      <td>NaN</td>\n      <td>NaN</td>\n      <td>1.658146</td>\n      <td>NaN</td>\n      <td>NaN</td>\n      <td>NaN</td>\n      <td>NaN</td>\n      <td>NaN</td>\n      <td>NaN</td>\n      <td>NaN</td>\n      <td>NaN</td>\n      <td>NaN</td>\n      <td>NaN</td>\n      <td>NaN</td>\n      <td>NaN</td>\n      <td>f4346e58-dcf4-43bd-8cdf-6b6c59e20c5b</td>\n      <td>1666</td>\n      <td>NaN</td>\n      <td>[29.6, 6.5]</td>\n      <td>3764238</td>\n      <td>46</td>\n      <td>NaN</td>\n      <td>NaN</td>\n      <td>NaN</td>\n      <td>-0.139858</td>\n      <td>NaN</td>\n      <td>Right Foot</td>\n      <td>NaN</td>\n      <td>NaN</td>\n      <td>NaN</td>\n      <td>[50.2, 3.6]</td>\n      <td>NaN</td>\n      <td>Ground Pass</td>\n      <td>NaN</td>\n      <td>20.803125</td>\n      <td>NaN</td>\n      <td>NaN</td>\n      <td>NaN</td>\n      <td>NaN</td>\n      <td>Mayumi Pacheco</td>\n      <td>NaN</td>\n      <td>NaN</td>\n      <td>NaN</td>\n      <td>NaN</td>\n      <td>NaN</td>\n      <td>NaN</td>\n      <td>2</td>\n      <td>Regular Play</td>\n      <td>So-Hyun Cho</td>\n      <td>22798.0</td>\n      <td>Right Center Midfield</td>\n      <td>92</td>\n      <td>West Ham United LFC</td>\n      <td>972</td>\n      <td>[2fa7a685-e1ee-4574-af2b-f87e96f14595]</td>\n      <td>9</td>\n      <td>NaN</td>\n      <td>NaN</td>\n      <td>NaN</td>\n      <td>NaN</td>\n      <td>NaN</td>\n      <td>NaN</td>\n      <td>NaN</td>\n      <td>NaN</td>\n      <td>NaN</td>\n      <td>NaN</td>\n      <td>NaN</td>\n      <td>NaN</td>\n      <td>NaN</td>\n      <td>NaN</td>\n      <td>NaN</td>\n      <td>West Ham United LFC</td>\n      <td>972</td>\n      <td>00:01:09.018</td>\n      <td>Pass</td>\n      <td>NaN</td>\n      <td>2769</td>\n      <td>29.6</td>\n      <td>6.5</td>\n      <td>50.2</td>\n      <td>3.6</td>\n      <td>NaN</td>\n      <td>NaN</td>\n      <td>NaN</td>\n      <td>NaN</td>\n      <td>NaN</td>\n      <td>NaN</td>\n      <td>NaN</td>\n      <td>NaN</td>\n      <td>NaN</td>\n      <td>NaN</td>\n      <td>NaN</td>\n      <td>NaN</td>\n      <td>NaN</td>\n      <td>NaN</td>\n      <td>NaN</td>\n      <td>NaN</td>\n      <td>NaN</td>\n      <td>NaN</td>\n      <td>NaN</td>\n      <td>NaN</td>\n      <td>NaN</td>\n      <td>NaN</td>\n      <td>NaN</td>\n    </tr>\n    <tr>\n      <th>646</th>\n      <td>NaN</td>\n      <td>NaN</td>\n      <td>NaN</td>\n      <td>NaN</td>\n      <td>NaN</td>\n      <td>NaN</td>\n      <td>NaN</td>\n      <td>NaN</td>\n      <td>NaN</td>\n      <td>NaN</td>\n      <td>NaN</td>\n      <td>NaN</td>\n      <td>NaN</td>\n      <td>NaN</td>\n      <td>NaN</td>\n      <td>NaN</td>\n      <td>2.243320</td>\n      <td>NaN</td>\n      <td>NaN</td>\n      <td>NaN</td>\n      <td>NaN</td>\n      <td>NaN</td>\n      <td>NaN</td>\n      <td>NaN</td>\n      <td>NaN</td>\n      <td>NaN</td>\n      <td>NaN</td>\n      <td>NaN</td>\n      <td>NaN</td>\n      <td>0b916265-0914-4395-983b-c49c5076b8a2</td>\n      <td>2235</td>\n      <td>NaN</td>\n      <td>[83.7, 17.3]</td>\n      <td>3764238</td>\n      <td>61</td>\n      <td>NaN</td>\n      <td>NaN</td>\n      <td>NaN</td>\n      <td>-0.293494</td>\n      <td>NaN</td>\n      <td>Right Foot</td>\n      <td>NaN</td>\n      <td>NaN</td>\n      <td>NaN</td>\n      <td>[106.2, 10.5]</td>\n      <td>NaN</td>\n      <td>Ground Pass</td>\n      <td>NaN</td>\n      <td>23.505106</td>\n      <td>NaN</td>\n      <td>NaN</td>\n      <td>NaN</td>\n      <td>NaN</td>\n      <td>Caitlin Jade Foord</td>\n      <td>NaN</td>\n      <td>NaN</td>\n      <td>NaN</td>\n      <td>NaN</td>\n      <td>NaN</td>\n      <td>NaN</td>\n      <td>2</td>\n      <td>From Goal Kick</td>\n      <td>Jordan Nobbs</td>\n      <td>10192.0</td>\n      <td>Right Wing</td>\n      <td>119</td>\n      <td>Arsenal WFC</td>\n      <td>968</td>\n      <td>[e86fc0db-fd62-4196-bea1-c67224dd2249]</td>\n      <td>46</td>\n      <td>NaN</td>\n      <td>NaN</td>\n      <td>NaN</td>\n      <td>NaN</td>\n      <td>NaN</td>\n      <td>NaN</td>\n      <td>NaN</td>\n      <td>NaN</td>\n      <td>NaN</td>\n      <td>NaN</td>\n      <td>NaN</td>\n      <td>NaN</td>\n      <td>NaN</td>\n      <td>NaN</td>\n      <td>NaN</td>\n      <td>Arsenal WFC</td>\n      <td>968</td>\n      <td>00:16:46.369</td>\n      <td>Pass</td>\n      <td>NaN</td>\n      <td>3706</td>\n      <td>83.7</td>\n      <td>17.3</td>\n      <td>106.2</td>\n      <td>10.5</td>\n      <td>NaN</td>\n      <td>NaN</td>\n      <td>NaN</td>\n      <td>NaN</td>\n      <td>NaN</td>\n      <td>NaN</td>\n      <td>NaN</td>\n      <td>NaN</td>\n      <td>NaN</td>\n      <td>NaN</td>\n      <td>NaN</td>\n      <td>NaN</td>\n      <td>NaN</td>\n      <td>NaN</td>\n      <td>NaN</td>\n      <td>NaN</td>\n      <td>NaN</td>\n      <td>NaN</td>\n      <td>NaN</td>\n      <td>NaN</td>\n      <td>NaN</td>\n      <td>NaN</td>\n      <td>NaN</td>\n    </tr>\n    <tr>\n      <th>647</th>\n      <td>NaN</td>\n      <td>NaN</td>\n      <td>NaN</td>\n      <td>NaN</td>\n      <td>NaN</td>\n      <td>NaN</td>\n      <td>NaN</td>\n      <td>NaN</td>\n      <td>NaN</td>\n      <td>NaN</td>\n      <td>NaN</td>\n      <td>NaN</td>\n      <td>NaN</td>\n      <td>NaN</td>\n      <td>NaN</td>\n      <td>NaN</td>\n      <td>1.381024</td>\n      <td>NaN</td>\n      <td>NaN</td>\n      <td>NaN</td>\n      <td>NaN</td>\n      <td>NaN</td>\n      <td>NaN</td>\n      <td>NaN</td>\n      <td>NaN</td>\n      <td>NaN</td>\n      <td>NaN</td>\n      <td>NaN</td>\n      <td>NaN</td>\n      <td>ac5ee7ec-22ca-40ca-b56b-aa540aa42bb5</td>\n      <td>2239</td>\n      <td>NaN</td>\n      <td>[101.6, 12.3]</td>\n      <td>3764238</td>\n      <td>61</td>\n      <td>NaN</td>\n      <td>NaN</td>\n      <td>NaN</td>\n      <td>-1.683524</td>\n      <td>NaN</td>\n      <td>Right Foot</td>\n      <td>NaN</td>\n      <td>NaN</td>\n      <td>NaN</td>\n      <td>[101.0, 7.0]</td>\n      <td>NaN</td>\n      <td>Ground Pass</td>\n      <td>NaN</td>\n      <td>5.333854</td>\n      <td>NaN</td>\n      <td>NaN</td>\n      <td>NaN</td>\n      <td>NaN</td>\n      <td>Jordan Nobbs</td>\n      <td>NaN</td>\n      <td>NaN</td>\n      <td>NaN</td>\n      <td>NaN</td>\n      <td>NaN</td>\n      <td>NaN</td>\n      <td>2</td>\n      <td>From Goal Kick</td>\n      <td>Caitlin Jade Foord</td>\n      <td>11338.0</td>\n      <td>Right Defensive Midfield</td>\n      <td>119</td>\n      <td>Arsenal WFC</td>\n      <td>968</td>\n      <td>[9fb5fa98-e0f0-48e7-81d5-75764ab2c42e]</td>\n      <td>50</td>\n      <td>NaN</td>\n      <td>NaN</td>\n      <td>NaN</td>\n      <td>NaN</td>\n      <td>NaN</td>\n      <td>NaN</td>\n      <td>NaN</td>\n      <td>NaN</td>\n      <td>NaN</td>\n      <td>NaN</td>\n      <td>NaN</td>\n      <td>NaN</td>\n      <td>NaN</td>\n      <td>NaN</td>\n      <td>NaN</td>\n      <td>Arsenal WFC</td>\n      <td>968</td>\n      <td>00:16:50.511</td>\n      <td>Pass</td>\n      <td>NaN</td>\n      <td>3710</td>\n      <td>101.6</td>\n      <td>12.3</td>\n      <td>101.0</td>\n      <td>7.0</td>\n      <td>NaN</td>\n      <td>NaN</td>\n      <td>NaN</td>\n      <td>NaN</td>\n      <td>NaN</td>\n      <td>NaN</td>\n      <td>NaN</td>\n      <td>NaN</td>\n      <td>NaN</td>\n      <td>NaN</td>\n      <td>NaN</td>\n      <td>NaN</td>\n      <td>NaN</td>\n      <td>NaN</td>\n      <td>NaN</td>\n      <td>NaN</td>\n      <td>NaN</td>\n      <td>NaN</td>\n      <td>NaN</td>\n      <td>NaN</td>\n      <td>NaN</td>\n      <td>NaN</td>\n      <td>NaN</td>\n    </tr>\n    <tr>\n      <th>851</th>\n      <td>NaN</td>\n      <td>NaN</td>\n      <td>NaN</td>\n      <td>NaN</td>\n      <td>NaN</td>\n      <td>NaN</td>\n      <td>NaN</td>\n      <td>NaN</td>\n      <td>NaN</td>\n      <td>NaN</td>\n      <td>NaN</td>\n      <td>NaN</td>\n      <td>NaN</td>\n      <td>NaN</td>\n      <td>NaN</td>\n      <td>NaN</td>\n      <td>1.028731</td>\n      <td>NaN</td>\n      <td>NaN</td>\n      <td>NaN</td>\n      <td>NaN</td>\n      <td>NaN</td>\n      <td>NaN</td>\n      <td>NaN</td>\n      <td>NaN</td>\n      <td>NaN</td>\n      <td>NaN</td>\n      <td>NaN</td>\n      <td>NaN</td>\n      <td>7d4886df-d3a0-4dc0-a020-07061b44c783</td>\n      <td>2931</td>\n      <td>NaN</td>\n      <td>[81.3, 60.7]</td>\n      <td>3764238</td>\n      <td>86</td>\n      <td>NaN</td>\n      <td>NaN</td>\n      <td>NaN</td>\n      <td>1.247112</td>\n      <td>NaN</td>\n      <td>Right Foot</td>\n      <td>NaN</td>\n      <td>NaN</td>\n      <td>NaN</td>\n      <td>[86.5, 76.2]</td>\n      <td>NaN</td>\n      <td>Ground Pass</td>\n      <td>NaN</td>\n      <td>16.349007</td>\n      <td>NaN</td>\n      <td>NaN</td>\n      <td>NaN</td>\n      <td>NaN</td>\n      <td>Cecilie Redisch Kvamme</td>\n      <td>NaN</td>\n      <td>NaN</td>\n      <td>NaN</td>\n      <td>NaN</td>\n      <td>NaN</td>\n      <td>NaN</td>\n      <td>2</td>\n      <td>Regular Play</td>\n      <td>Emily Louise van Egmond</td>\n      <td>5076.0</td>\n      <td>Left Center Midfield</td>\n      <td>170</td>\n      <td>West Ham United LFC</td>\n      <td>972</td>\n      <td>[25bea2d2-0a4d-4cea-a0eb-27038d989515]</td>\n      <td>22</td>\n      <td>NaN</td>\n      <td>NaN</td>\n      <td>NaN</td>\n      <td>NaN</td>\n      <td>NaN</td>\n      <td>NaN</td>\n      <td>NaN</td>\n      <td>NaN</td>\n      <td>NaN</td>\n      <td>NaN</td>\n      <td>NaN</td>\n      <td>NaN</td>\n      <td>NaN</td>\n      <td>NaN</td>\n      <td>NaN</td>\n      <td>West Ham United LFC</td>\n      <td>972</td>\n      <td>00:41:22.836</td>\n      <td>Pass</td>\n      <td>NaN</td>\n      <td>5182</td>\n      <td>81.3</td>\n      <td>60.7</td>\n      <td>86.5</td>\n      <td>76.2</td>\n      <td>NaN</td>\n      <td>NaN</td>\n      <td>NaN</td>\n      <td>NaN</td>\n      <td>NaN</td>\n      <td>NaN</td>\n      <td>NaN</td>\n      <td>NaN</td>\n      <td>NaN</td>\n      <td>NaN</td>\n      <td>NaN</td>\n      <td>NaN</td>\n      <td>NaN</td>\n      <td>NaN</td>\n      <td>NaN</td>\n      <td>NaN</td>\n      <td>NaN</td>\n      <td>NaN</td>\n      <td>NaN</td>\n      <td>NaN</td>\n      <td>NaN</td>\n      <td>NaN</td>\n      <td>NaN</td>\n    </tr>\n    <tr>\n      <th>852</th>\n      <td>NaN</td>\n      <td>NaN</td>\n      <td>NaN</td>\n      <td>NaN</td>\n      <td>NaN</td>\n      <td>NaN</td>\n      <td>NaN</td>\n      <td>NaN</td>\n      <td>NaN</td>\n      <td>NaN</td>\n      <td>NaN</td>\n      <td>NaN</td>\n      <td>NaN</td>\n      <td>NaN</td>\n      <td>NaN</td>\n      <td>NaN</td>\n      <td>2.170479</td>\n      <td>NaN</td>\n      <td>NaN</td>\n      <td>NaN</td>\n      <td>NaN</td>\n      <td>NaN</td>\n      <td>NaN</td>\n      <td>NaN</td>\n      <td>NaN</td>\n      <td>NaN</td>\n      <td>NaN</td>\n      <td>NaN</td>\n      <td>NaN</td>\n      <td>b40d9850-082b-449a-8546-8ecd5916208a</td>\n      <td>2934</td>\n      <td>NaN</td>\n      <td>[87.6, 73.5]</td>\n      <td>3764238</td>\n      <td>86</td>\n      <td>NaN</td>\n      <td>NaN</td>\n      <td>NaN</td>\n      <td>-0.647392</td>\n      <td>NaN</td>\n      <td>Right Foot</td>\n      <td>NaN</td>\n      <td>NaN</td>\n      <td>NaN</td>\n      <td>[95.8, 67.3]</td>\n      <td>NaN</td>\n      <td>Ground Pass</td>\n      <td>NaN</td>\n      <td>10.280078</td>\n      <td>NaN</td>\n      <td>NaN</td>\n      <td>NaN</td>\n      <td>NaN</td>\n      <td>Emily Louise van Egmond</td>\n      <td>NaN</td>\n      <td>NaN</td>\n      <td>NaN</td>\n      <td>NaN</td>\n      <td>NaN</td>\n      <td>NaN</td>\n      <td>2</td>\n      <td>Regular Play</td>\n      <td>Cecilie Redisch Kvamme</td>\n      <td>31553.0</td>\n      <td>Right Back</td>\n      <td>170</td>\n      <td>West Ham United LFC</td>\n      <td>972</td>\n      <td>[114ae1c0-2546-4ad3-8bba-97c8272c66c3]</td>\n      <td>24</td>\n      <td>NaN</td>\n      <td>NaN</td>\n      <td>NaN</td>\n      <td>NaN</td>\n      <td>NaN</td>\n      <td>NaN</td>\n      <td>NaN</td>\n      <td>NaN</td>\n      <td>NaN</td>\n      <td>NaN</td>\n      <td>NaN</td>\n      <td>NaN</td>\n      <td>NaN</td>\n      <td>NaN</td>\n      <td>NaN</td>\n      <td>West Ham United LFC</td>\n      <td>972</td>\n      <td>00:41:24.202</td>\n      <td>Pass</td>\n      <td>NaN</td>\n      <td>5184</td>\n      <td>87.6</td>\n      <td>73.5</td>\n      <td>95.8</td>\n      <td>67.3</td>\n      <td>NaN</td>\n      <td>NaN</td>\n      <td>NaN</td>\n      <td>NaN</td>\n      <td>NaN</td>\n      <td>NaN</td>\n      <td>NaN</td>\n      <td>NaN</td>\n      <td>NaN</td>\n      <td>NaN</td>\n      <td>NaN</td>\n      <td>NaN</td>\n      <td>NaN</td>\n      <td>NaN</td>\n      <td>NaN</td>\n      <td>NaN</td>\n      <td>NaN</td>\n      <td>NaN</td>\n      <td>NaN</td>\n      <td>NaN</td>\n      <td>NaN</td>\n      <td>NaN</td>\n      <td>NaN</td>\n    </tr>\n  </tbody>\n</table>\n<p>1258 rows × 118 columns</p>\n</div>"
     },
     "execution_count": 5,
     "metadata": {},
     "output_type": "execute_result"
    }
   ],
   "source": [
    "one_twos_aggregated"
   ],
   "metadata": {
    "collapsed": false,
    "ExecuteTime": {
     "end_time": "2023-06-03T11:51:59.640562210Z",
     "start_time": "2023-06-03T11:51:59.582201173Z"
    }
   }
  },
  {
   "cell_type": "code",
   "execution_count": null,
   "outputs": [],
   "source": [
    "# split into opening and closing passes\n",
    "open_agg = one_twos_aggregated.iloc[::2, :]\n",
    "\n",
    "close_agg = one_twos_aggregated.iloc[1::2, :]"
   ],
   "metadata": {
    "collapsed": false
   }
  },
  {
   "cell_type": "code",
   "execution_count": null,
   "outputs": [],
   "source": [
    "open_counts = open_agg.player.value_counts()\n",
    "open_counts = open_counts.reset_index()\n",
    "\n",
    "# add team info\n",
    "open_counts = get_team_info(open_counts, open_agg)\n",
    "\n",
    "close_counts = close_agg.player.value_counts()\n",
    "close_counts = close_counts.reset_index()\n",
    "\n",
    "close_counts = get_team_info(close_counts, close_agg)\n"
   ],
   "metadata": {
    "collapsed": false
   }
  },
  {
   "cell_type": "code",
   "execution_count": null,
   "outputs": [],
   "source": [
    "# plot open and close in subplots - TOP 10 only\n",
    "top_n = 10\n",
    "open_10 = open_counts.iloc[:top_n, :]\n",
    "close_10 = close_counts.iloc[:top_n, :]\n",
    "\n",
    "# use surnames only for top 10\n",
    "surnames = []\n",
    "for player in open_10.player:\n",
    "    surnames.append(player.split(\" \")[-1])\n",
    "\n",
    "open_10[\"surname\"] = surnames\n",
    "\n",
    "surnames = []\n",
    "for player in close_10.player:\n",
    "    surnames.append(player.split(\" \")[-1])\n",
    "\n",
    "close_10[\"surname\"] = surnames\n",
    "\n",
    "fig, ax = plt.subplots(nrows=1, ncols=2, sharey=True, figsize=(24,15))\n",
    "# plt.title(\"Players With Most One-Two Passes Per Team (WSL 20/21)\")\n",
    "\n",
    "# make color dict\n",
    "unique = open_counts[\"team\"].unique()\n",
    "palette = dict(zip(unique, sns.color_palette(n_colors=len(unique))))\n",
    "sns.barplot(x=\"surname\", y=\"count\", data=open_10, hue=\"team\", palette=palette, ax=ax[0], dodge=False)\n",
    "ax[0].set_title(\"One-Twos Opened\")\n",
    "sns.barplot(x=\"surname\", y=\"count\", data=close_10, hue=\"team\", palette=palette, ax=ax[1], dodge=False)\n",
    "ax[1].set_title(\"One-Twos Closed\")\n",
    "ax[0].set_xlabel(\"Player\")\n",
    "ax[1].set_xlabel(\"Player\")\n",
    "# ax[0].tick_params(axis='x', rotation=70)\n",
    "# ax[1].tick_params(axis='x', rotation=70)\n",
    "ax[0].set_ylabel(\"Count\")\n",
    "ax[1].set_ylabel(\"Count\")\n",
    "plt.savefig(f\"slide_plots/open_close_bar_top{top_n}.png\")\n",
    "plt.show()"
   ],
   "metadata": {
    "collapsed": false
   }
  },
  {
   "cell_type": "code",
   "execution_count": null,
   "outputs": [],
   "source": [
    "# plot heatmap for beth mead\n",
    "\n",
    "# make df of 1-2's for BM\n",
    "BM_data = get_player_one_twos(\"Bethany Mead\", one_twos_aggregated)\n",
    "\n",
    "plot_one_two_heatmaps(data=BM_data, competition=\"WSL\", season=\"2021\", team=\"BM\")"
   ],
   "metadata": {
    "collapsed": false
   }
  },
  {
   "cell_type": "code",
   "execution_count": null,
   "outputs": [],
   "source": [
    "# plot heatmap for fran kirby\n",
    "\n",
    "FK_data = get_player_one_twos(\"Francesca Kirby\", one_twos_aggregated)\n",
    "\n",
    "plot_one_two_heatmaps(data=FK_data, competition=\"WSL\", season=\"2021\", team=\"FK\")"
   ],
   "metadata": {
    "collapsed": false
   }
  },
  {
   "cell_type": "code",
   "execution_count": null,
   "outputs": [],
   "source": [
    "top_10 = list(set([player for player in open_10.player] + [player for player in close_10.player]))\n",
    "\n",
    "player_data = {}\n",
    "pcs = []\n",
    "for player in top_10:\n",
    "    player_data[player] = get_player_one_twos(player, one_twos_aggregated)\n"
   ],
   "metadata": {
    "collapsed": false
   }
  },
  {
   "cell_type": "code",
   "execution_count": null,
   "outputs": [],
   "source": [
    "one_two_counts = open_counts.merge(close_counts, on=\"player\", how=\"outer\").rename(columns={\"count_x\": \"open_count\", \"count_y\": \"close_count\", \"team_x\": \"team\"})\n",
    "one_two_counts.drop(columns=[\"team_y\"])\n",
    "\n",
    "# add a total count col\n",
    "one_two_counts[\"total_count\"] = one_two_counts[\"open_count\"]+one_two_counts[\"close_count\"]\n",
    "\n",
    "# take only players in top 10 open or close:\n",
    "# idx = [i for i in range(len(one_two_counts)) if one_two_counts[\"player\"].iloc[i] in top_10]\n",
    "# one_two_10 = one_two_counts.iloc[idx,:]\n",
    "one_two_10 = one_two_counts.head(10)"
   ],
   "metadata": {
    "collapsed": false
   }
  },
  {
   "cell_type": "code",
   "execution_count": null,
   "outputs": [],
   "source": [
    "# get key pass percentage for each top 10 player\n",
    "pcs = []\n",
    "for player in one_two_10.player:\n",
    "    pc = key_one_two_percentage(player_data[player])\n",
    "    pcs.append(pc)\n",
    "\n",
    "one_two_10[\"key_pc\"] = pcs"
   ],
   "metadata": {
    "collapsed": false
   }
  },
  {
   "cell_type": "code",
   "execution_count": null,
   "outputs": [],
   "source": [
    "# stacked bar plot for total count\n",
    "# TODO - make into stack plot\n",
    "# use surnames only\n",
    "surnames = []\n",
    "for player in one_two_10.player:\n",
    "    surnames.append(player.split(\" \")[-1])\n",
    "\n",
    "one_two_10[\"surname\"] = surnames\n",
    "\n",
    "fig, ax = plt.subplots(figsize=(12,8))\n",
    "# plt.title(\"Players With Most One-Two Passes Per Team (WSL 20/21)\")\n",
    "\n",
    "# make color dict\n",
    "unique = one_two_counts[\"team\"].unique()\n",
    "palette = dict(zip(unique, sns.color_palette(n_colors=len(unique))))\n",
    "# sns.barplot(x=\"surname\", y=\"total_count\", data=one_two_10.head(5), hue=\"team\", palette=palette, ax=ax, dodge=False)\n",
    "# ax.set_title(\"Total One-Twos\")\n",
    "# ax.set_xlabel(\"Player\")\n",
    "# ax.set_ylabel(\"Count\")\n",
    "# plt.savefig(f\"slide_plots/open_close_stack_top{top_n}.png\")\n",
    "# plt.show()\n",
    "one_two_10.sort_values(by=\"total_count\", ascending=False).head(5).set_index(\"surname\")[[\"open_count\",\"close_count\"]].plot(kind=\"bar\",stacked=True, color=[\"red\", \"green\"], ax=ax)\n",
    "plt.savefig(f\"slide_plots/open_close_stack_top{top_n}.png\")\n",
    "plt.xticks(rotation=0)\n",
    "plt.ylabel(\"Count\")\n",
    "plt.xlabel(\"Player\")\n",
    "plt.show()\n"
   ],
   "metadata": {
    "collapsed": false
   }
  },
  {
   "cell_type": "code",
   "execution_count": null,
   "outputs": [],
   "source": [
    "# plot opening against closing, scatter plot size = key pass percentage\n",
    "sns.set(rc={\"figure.figsize\": (20,15)})\n",
    "\n",
    "p = sns.relplot(x=\"open_count\", y=\"close_count\", data=one_two_10, hue=\"team\", size=\"key_pc\", sizes=(10,500))\n",
    "ax = p.axes[0,0]\n",
    "# ax.set_title(\"One-Twos Opened and Closed\\n WSL 20/21\\n\")\n",
    "ax.set_xlabel(\"Opened\")\n",
    "ax.set_ylabel(\"Closed\")\n",
    "\n",
    "for idx, row in one_two_10.iterrows():\n",
    "    x = row[1]\n",
    "    y = row[3]\n",
    "    name = row[0]\n",
    "    if name==\"Bethany Mead\" or name==\"Francesca Kirby\":\n",
    "        ax.text(x-0.25, y+0.5, name.split(\" \")[-1], horizontalalignment='right')\n",
    "plt.savefig(\"slide_plots/WSL_open_v_closed_key.png\")\n",
    "plt.show()"
   ],
   "metadata": {
    "collapsed": false
   }
  },
  {
   "cell_type": "code",
   "execution_count": null,
   "outputs": [],
   "source": [
    "def get_match_events(match_ID, one_two_IDs):\n",
    "    # load match events\n",
    "    match = sb.events(match_id=match_ID)\n",
    "\n",
    "    # initialise list\n",
    "next_event_id = []\n",
    "\n",
    "# loop through all events in match\n",
    "for i in range(len(match)):\n",
    "    # get event id\n",
    "    event = match[\"id\"].iloc[i]\n",
    "    # if that event is a one-two closing pass ...\n",
    "    if event in one_two_ids.values:\n",
    "        if match[\"type\"].iloc[i+1] == \"Pass\" and not np.isnan(match[\"pass_shot_assist\"].iloc[i+1]):\n",
    "            # ... then store the index of the next pass IF the next pass is a key pass\n",
    "            next_event_id.append(match[\"id\"].iloc[i+1])\n",
    "        elif match[\"type\"].iloc[i+1] == \"Pass\" and not np.isnan(match[\"pass_goal_assist\"].iloc[i+1]):\n",
    "            next_event_id.append(match[\"id\"].iloc[i+1])\n",
    "\n",
    "    return next_event_idx"
   ],
   "metadata": {
    "collapsed": false
   }
  },
  {
   "cell_type": "code",
   "execution_count": null,
   "outputs": [],
   "source": [
    "for matchid in BM_data.match_id.unique():\n",
    "    one_two_ids = BM_data[\"id\"].iloc[1::2]\n",
    "    print(len(get_match_events(match_ID=matchid, one_two_IDs=one_two_ids)))"
   ],
   "metadata": {
    "collapsed": false
   }
  },
  {
   "cell_type": "code",
   "execution_count": null,
   "outputs": [],
   "source": [
    "# check function\n",
    "match_ID = BM_data.match_id.unique()[1]\n",
    "match = sb.events(match_id=match_ID)\n",
    "\n",
    "# initialise list\n",
    "next_event_id = []\n",
    "\n",
    "# loop through all events in match\n",
    "for i in range(len(match)):\n",
    "    # get event id\n",
    "    event = match[\"id\"].iloc[i]\n",
    "    # if that event is a one-two closing pass ...\n",
    "    if event in one_two_ids.values:\n",
    "        if match[\"type\"].iloc[i+1] == \"Pass\" and not np.isnan(match[\"pass_shot_assist\"].iloc[i+1]):\n",
    "            # ... then store the index of the next pass IF the next pass is a key pass\n",
    "            next_event_id.append(match[\"id\"].iloc[i+1])\n",
    "        elif match[\"type\"].iloc[i+1] == \"Pass\" and not np.isnan(match[\"pass_goal_assist\"].iloc[i+1]):\n",
    "            next_event_id.append(match[\"id\"].iloc[i+1])\n",
    "\n",
    "match[match[\"id\"]==next_event_id[0]]"
   ],
   "metadata": {
    "collapsed": false
   }
  },
  {
   "cell_type": "code",
   "execution_count": null,
   "outputs": [],
   "source": [
    "next_event_idx"
   ],
   "metadata": {
    "collapsed": false
   }
  },
  {
   "cell_type": "code",
   "execution_count": null,
   "outputs": [],
   "source": [
    "# function to retrieve next event given a one-two closing pass\n",
    "\n",
    "# given players one-two dataframe, get match id, then go to one_two df and find closing pass event id. then choose next event (i.e. next row)\n",
    "# then check if next event is a key pass (shot or goal assist)\n",
    "# add extra column to players df with values [\"key pass\", \"leads to key pass\"]\n",
    "\n",
    "for i in range(len(BM_data))[:2]:\n",
    "    # get closing passes\n",
    "    BM_closes = BM_data.iloc[1::2]\n",
    "    match = BM_closes[\"match_id\"].iloc[i]\n",
    "    all_match_events = one_twos[f\"{match}\"]\n",
    "\n",
    "    # find closing pass in all_match_events\n"
   ],
   "metadata": {
    "collapsed": false
   }
  },
  {
   "cell_type": "code",
   "execution_count": null,
   "outputs": [],
   "source": [
    "# for each match ...\n",
    "for match in BM_closes.match_id.unique()[1:2]:\n",
    "    # ... get all events\n",
    "    all_events = one_twos[f\"{match}\"]\n",
    "    # extract ids\n",
    "    event_ids = all_events[\"id\"].values\n",
    "\n",
    "    # then get all one-two closing passes\n",
    "    match_one_twos = BM_closes[BM_closes[\"match_id\"]==match]\n",
    "    one_two_ids = match_one_twos[\"id\"].values\n",
    "\n",
    "    # find index of this pass in the df of all events\n",
    "    # one_two_next = all_events[]"
   ],
   "metadata": {
    "collapsed": false
   }
  },
  {
   "cell_type": "code",
   "execution_count": null,
   "outputs": [],
   "source": [
    "match_one_twos_idx = match_one_twos.set_index(\"id\")\n",
    "all_events_idx = all_events.set_index(\"id\")"
   ],
   "metadata": {
    "collapsed": false
   }
  }
 ],
 "metadata": {
  "kernelspec": {
   "display_name": "Python 3",
   "language": "python",
   "name": "python3"
  },
  "language_info": {
   "codemirror_mode": {
    "name": "ipython",
    "version": 2
   },
   "file_extension": ".py",
   "mimetype": "text/x-python",
   "name": "python",
   "nbconvert_exporter": "python",
   "pygments_lexer": "ipython2",
   "version": "2.7.6"
  }
 },
 "nbformat": 4,
 "nbformat_minor": 0
}
