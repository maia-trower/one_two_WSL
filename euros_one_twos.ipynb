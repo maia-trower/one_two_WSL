{
 "cells": [
  {
   "cell_type": "code",
   "execution_count": null,
   "metadata": {
    "collapsed": true
   },
   "outputs": [],
   "source": [
    "# notebook for getting BM assist plot"
   ]
  },
  {
   "cell_type": "code",
   "execution_count": null,
   "outputs": [],
   "source": [
    "import pandas as pd\n",
    "from statsbombpy import sb\n",
    "from one_two.functions import get_pass_data, get_one_twos, get_player_one_twos\n",
    "pd.set_option(\"display.max_columns\", None)"
   ],
   "metadata": {
    "collapsed": false
   }
  },
  {
   "cell_type": "code",
   "execution_count": null,
   "outputs": [],
   "source": [
    "path = \"/home/s2113337/Documents/GitHub/open-data/data/three-sixty\""
   ],
   "metadata": {
    "collapsed": false
   }
  },
  {
   "cell_type": "code",
   "execution_count": null,
   "outputs": [],
   "source": [
    "sb.matches(competition_id=53, season_id=106)"
   ],
   "metadata": {
    "collapsed": false
   }
  },
  {
   "cell_type": "code",
   "execution_count": null,
   "outputs": [],
   "source": [
    "# get all one-twos for england\n",
    "\n",
    "pass_data = get_pass_data(competition_ID=53, season_ID=106, team=\"England\", data_path=path)\n",
    "\n",
    "# then get one_twos\n",
    "one_twos_eng_dict = {}\n",
    "for match in pass_data.keys():\n",
    "    one_twos_eng_dict[match] = get_one_twos(match=pass_data[match])"
   ],
   "metadata": {
    "collapsed": false
   }
  },
  {
   "cell_type": "code",
   "execution_count": null,
   "outputs": [],
   "source": [
    "# plot all one-twos for a given match\n",
    "\n",
    "match_id = \"3844384\"\n",
    "match_df = one_twos_eng_dict[match_id]\n",
    "\n",
    "plot_match_one_twos(data=match_df, save=False, grid=True)"
   ],
   "metadata": {
    "collapsed": false
   }
  },
  {
   "cell_type": "code",
   "execution_count": null,
   "outputs": [],
   "source": [
    "# get dataframe of only beth mead one-twos\n",
    "BM_data = pd.DataFrame([])\n",
    "for key in one_twos_eng_dict.keys():\n",
    "    bm_onetwo = get_player_one_twos(player=\"Bethany Mead\", data=one_twos_eng_dict[key])\n",
    "    BM_data = pd.concat([BM_data, bm_onetwo])"
   ],
   "metadata": {
    "collapsed": false
   }
  },
  {
   "cell_type": "code",
   "execution_count": null,
   "outputs": [],
   "source": [
    "plot_match_one_twos(data=BM_data, save=False, grid=True)"
   ],
   "metadata": {
    "collapsed": false
   }
  },
  {
   "cell_type": "code",
   "execution_count": null,
   "outputs": [],
   "source": [
    "# plot only shot assist one\n",
    "\n",
    "BM_assist = BM_data.iloc[2:4,:]\n",
    "\n",
    "plot_match_one_twos1(data=BM_assist, save=False, grid=False)"
   ],
   "metadata": {
    "collapsed": false
   }
  }
 ],
 "metadata": {
  "kernelspec": {
   "display_name": "Python 3",
   "language": "python",
   "name": "python3"
  },
  "language_info": {
   "codemirror_mode": {
    "name": "ipython",
    "version": 2
   },
   "file_extension": ".py",
   "mimetype": "text/x-python",
   "name": "python",
   "nbconvert_exporter": "python",
   "pygments_lexer": "ipython2",
   "version": "2.7.6"
  }
 },
 "nbformat": 4,
 "nbformat_minor": 0
}
