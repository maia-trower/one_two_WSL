{
 "cells": [
  {
   "cell_type": "code",
   "execution_count": 1,
   "metadata": {
    "collapsed": true,
    "ExecuteTime": {
     "end_time": "2023-05-31T14:47:41.244006694Z",
     "start_time": "2023-05-31T14:47:40.300190342Z"
    }
   },
   "outputs": [],
   "source": [
    "import pickle\n",
    "\n",
    "import pandas as pd\n",
    "from statsbombpy import sb\n",
    "from mplsoccer import Pitch\n",
    "import pandas as pd\n",
    "from one_two.functions import get_pass_data, get_one_twos"
   ]
  },
  {
   "cell_type": "code",
   "execution_count": 2,
   "outputs": [],
   "source": [
    "# load in all WSL 20/21 passes\n",
    "com_id = 37\n",
    "season_id = 90\n",
    "path = \"\"\n",
    "\n",
    "comp_df = sb.matches(competition_id=com_id, season_id=season_id)"
   ],
   "metadata": {
    "collapsed": false,
    "ExecuteTime": {
     "end_time": "2023-05-31T14:47:41.685019516Z",
     "start_time": "2023-05-31T14:47:41.246945425Z"
    }
   }
  },
  {
   "cell_type": "code",
   "execution_count": null,
   "outputs": [],
   "source": [
    "# get all pass data\n",
    "\n",
    "all_passes = pd.DataFrame([])\n",
    "teams = comp_df.home_team.unique()\n",
    "\n",
    "for side in teams:\n",
    "    team_passes = get_pass_data(competition_ID=com_id, season_ID=season_id, team=side, data_path=path)\n",
    "\n",
    "    all_passes = pd.concat([all_passes, team_passes], axis=0)\n"
   ],
   "metadata": {
    "collapsed": false,
    "is_executing": true,
    "ExecuteTime": {
     "start_time": "2023-05-31T14:49:21.307101094Z"
    }
   }
  },
  {
   "cell_type": "code",
   "execution_count": null,
   "outputs": [],
   "source": [
    "all_passes.shape"
   ],
   "metadata": {
    "collapsed": false,
    "ExecuteTime": {
     "start_time": "2023-05-31T14:49:18.872301087Z"
    }
   }
  },
  {
   "cell_type": "code",
   "execution_count": null,
   "outputs": [],
   "source": [
    "# then get only one-twos from this season\n"
   ],
   "metadata": {
    "collapsed": false
   }
  },
  {
   "cell_type": "code",
   "execution_count": null,
   "outputs": [],
   "source": [
    "# then compute statistics of shots/assists from these one-twos"
   ],
   "metadata": {
    "collapsed": false
   }
  }
 ],
 "metadata": {
  "kernelspec": {
   "display_name": "Python 3",
   "language": "python",
   "name": "python3"
  },
  "language_info": {
   "codemirror_mode": {
    "name": "ipython",
    "version": 2
   },
   "file_extension": ".py",
   "mimetype": "text/x-python",
   "name": "python",
   "nbconvert_exporter": "python",
   "pygments_lexer": "ipython2",
   "version": "2.7.6"
  }
 },
 "nbformat": 4,
 "nbformat_minor": 0
}
