{
 "cells": [
  {
   "cell_type": "code",
   "execution_count": 1,
   "metadata": {
    "collapsed": true,
    "ExecuteTime": {
     "end_time": "2023-05-31T16:10:25.665948582Z",
     "start_time": "2023-05-31T16:10:24.691949063Z"
    }
   },
   "outputs": [],
   "source": [
    "import pickle\n",
    "from statsbombpy import sb\n",
    "from mplsoccer import Pitch\n",
    "import numpy as np\n",
    "import pandas as pd\n",
    "pd.set_option(\"display.max_columns\", None)\n",
    "from one_two.functions import get_pass_data, get_one_twos"
   ]
  },
  {
   "cell_type": "code",
   "execution_count": 2,
   "outputs": [],
   "source": [
    "# load in all WSL 20/21 passes\n",
    "com_id = 37\n",
    "season_id = 90\n",
    "s = 5\n",
    "p = 0.75\n",
    "c = 5\n",
    "path = \"\"\n",
    "\n",
    "comp_df = sb.matches(competition_id=com_id, season_id=season_id)"
   ],
   "metadata": {
    "collapsed": false,
    "ExecuteTime": {
     "end_time": "2023-05-31T16:10:26.165683919Z",
     "start_time": "2023-05-31T16:10:25.669696727Z"
    }
   }
  },
  {
   "cell_type": "code",
   "execution_count": 3,
   "outputs": [
    {
     "data": {
      "text/plain": "     ball_receipt_outcome ball_recovery_recovery_failure block_deflection   \n0                     NaN                            NaN              NaN  \\\n1                     NaN                            NaN              NaN   \n2                     NaN                            NaN              NaN   \n3                     NaN                            NaN              NaN   \n4                     NaN                            NaN              NaN   \n...                   ...                            ...              ...   \n3345                  NaN                            NaN              NaN   \n3346                  NaN                            NaN              NaN   \n3347                  NaN                            NaN              NaN   \n3348                  NaN                            NaN              NaN   \n3349                  NaN                            NaN              NaN   \n\n     carry_end_location clearance_aerial_won clearance_body_part   \n0                   NaN                  NaN                 NaN  \\\n1                   NaN                  NaN                 NaN   \n2                   NaN                  NaN                 NaN   \n3                   NaN                  NaN                 NaN   \n4                   NaN                  NaN                 NaN   \n...                 ...                  ...                 ...   \n3345                NaN                  NaN                 NaN   \n3346                NaN                  NaN                 NaN   \n3347                NaN                  NaN                 NaN   \n3348                NaN                  NaN                 NaN   \n3349                NaN                  NaN                 NaN   \n\n     clearance_head clearance_left_foot clearance_other clearance_right_foot   \n0               NaN                 NaN             NaN                  NaN  \\\n1               NaN                 NaN             NaN                  NaN   \n2               NaN                 NaN             NaN                  NaN   \n3               NaN                 NaN             NaN                  NaN   \n4               NaN                 NaN             NaN                  NaN   \n...             ...                 ...             ...                  ...   \n3345            NaN                 NaN             NaN                  NaN   \n3346            NaN                 NaN             NaN                  NaN   \n3347            NaN                 NaN             NaN                  NaN   \n3348            NaN                 NaN             NaN                  NaN   \n3349            NaN                 NaN             NaN                  NaN   \n\n     counterpress dribble_nutmeg dribble_outcome dribble_overrun duel_outcome   \n0             NaN            NaN             NaN             NaN          NaN  \\\n1             NaN            NaN             NaN             NaN          NaN   \n2             NaN            NaN             NaN             NaN          NaN   \n3             NaN            NaN             NaN             NaN          NaN   \n4             NaN            NaN             NaN             NaN          NaN   \n...           ...            ...             ...             ...          ...   \n3345          NaN            NaN             NaN             NaN          NaN   \n3346          NaN            NaN             NaN             NaN          NaN   \n3347          NaN            NaN             NaN             NaN          NaN   \n3348          NaN            NaN             NaN             NaN          NaN   \n3349          NaN            NaN             NaN             NaN          NaN   \n\n     duel_type  duration foul_committed_advantage foul_committed_card   \n0          NaN       0.0                      NaN                 NaN  \\\n1          NaN       0.0                      NaN                 NaN   \n2          NaN       0.0                      NaN                 NaN   \n3          NaN       0.0                      NaN                 NaN   \n4          NaN       0.0                      NaN                 NaN   \n...        ...       ...                      ...                 ...   \n3345       NaN       0.0                      NaN                 NaN   \n3346       NaN       0.0                      NaN                 NaN   \n3347       NaN       0.0                      NaN                 NaN   \n3348       NaN       0.0                      NaN                 NaN   \n3349       NaN       0.0                      NaN                 NaN   \n\n     foul_won_advantage foul_won_defensive goalkeeper_body_part   \n0                   NaN                NaN                  NaN  \\\n1                   NaN                NaN                  NaN   \n2                   NaN                NaN                  NaN   \n3                   NaN                NaN                  NaN   \n4                   NaN                NaN                  NaN   \n...                 ...                ...                  ...   \n3345                NaN                NaN                  NaN   \n3346                NaN                NaN                  NaN   \n3347                NaN                NaN                  NaN   \n3348                NaN                NaN                  NaN   \n3349                NaN                NaN                  NaN   \n\n     goalkeeper_end_location goalkeeper_outcome goalkeeper_position   \n0                        NaN                NaN                 NaN  \\\n1                        NaN                NaN                 NaN   \n2                        NaN                NaN                 NaN   \n3                        NaN                NaN                 NaN   \n4                        NaN                NaN                 NaN   \n...                      ...                ...                 ...   \n3345                     NaN                NaN                 NaN   \n3346                     NaN                NaN                 NaN   \n3347                     NaN                NaN                 NaN   \n3348                     NaN                NaN                 NaN   \n3349                     NaN                NaN                 NaN   \n\n     goalkeeper_punched_out goalkeeper_shot_saved_off_target   \n0                       NaN                              NaN  \\\n1                       NaN                              NaN   \n2                       NaN                              NaN   \n3                       NaN                              NaN   \n4                       NaN                              NaN   \n...                     ...                              ...   \n3345                    NaN                              NaN   \n3346                    NaN                              NaN   \n3347                    NaN                              NaN   \n3348                    NaN                              NaN   \n3349                    NaN                              NaN   \n\n     goalkeeper_technique goalkeeper_type   \n0                     NaN             NaN  \\\n1                     NaN             NaN   \n2                     NaN             NaN   \n3                     NaN             NaN   \n4                     NaN             NaN   \n...                   ...             ...   \n3345                  NaN             NaN   \n3346                  NaN             NaN   \n3347                  NaN             NaN   \n3348                  NaN             NaN   \n3349                  NaN             NaN   \n\n                                        id  index injury_stoppage_in_chain   \n0     b7f68694-0261-4929-ad96-907e62ec630c      1                      NaN  \\\n1     3474ba9d-a583-4d35-87dc-d06060a70e1c      2                      NaN   \n2     82665823-49b6-413e-a8bf-68fcc45eab52      3                      NaN   \n3     dc452a79-0089-4e2e-82b6-d8349fd5718f      4                      NaN   \n4     7afbbb4b-d035-4bee-807a-be4c07f4de1e   1660                      NaN   \n...                                    ...    ...                      ...   \n3345  75004154-61ab-4592-ae33-a78c02abeb17   1663                      NaN   \n3346  e8db6e7a-1e15-4bfe-bcce-ab2386afd991   2109                      NaN   \n3347  24240672-b6a8-40c3-830c-0c9255713d3a   2748                      NaN   \n3348  eb36e731-3ad4-4ed1-a72a-d200a83e1af3   2858                      NaN   \n3349  a8d6b706-78c8-40d0-96d4-ab299a5fd48e   3258                      NaN   \n\n     interception_outcome location  match_id  minute off_camera  out   \n0                     NaN      NaN   3775633       0        NaN  NaN  \\\n1                     NaN      NaN   3775633       0        NaN  NaN   \n2                     NaN      NaN   3775633       0        NaN  NaN   \n3                     NaN      NaN   3775633       0        NaN  NaN   \n4                     NaN      NaN   3775633      45        NaN  NaN   \n...                   ...      ...       ...     ...        ...  ...   \n3345                  NaN      NaN   3775633      45        NaN  NaN   \n3346                  NaN      NaN   3775633      60        NaN  NaN   \n3347                  NaN      NaN   3775633      82        NaN  NaN   \n3348                  NaN      NaN   3775633      86        NaN  NaN   \n3349                  NaN      NaN   3775633      96        NaN  NaN   \n\n     pass_aerial_won  pass_angle pass_assisted_shot_id pass_body_part   \n0                NaN         NaN                   NaN            NaN  \\\n1                NaN         NaN                   NaN            NaN   \n2                NaN         NaN                   NaN            NaN   \n3                NaN         NaN                   NaN            NaN   \n4                NaN         NaN                   NaN            NaN   \n...              ...         ...                   ...            ...   \n3345             NaN         NaN                   NaN            NaN   \n3346             NaN         NaN                   NaN            NaN   \n3347             NaN         NaN                   NaN            NaN   \n3348             NaN         NaN                   NaN            NaN   \n3349             NaN         NaN                   NaN            NaN   \n\n     pass_cross pass_cut_back pass_end_location pass_height pass_inswinging   \n0           NaN           NaN               NaN         NaN             NaN  \\\n1           NaN           NaN               NaN         NaN             NaN   \n2           NaN           NaN               NaN         NaN             NaN   \n3           NaN           NaN               NaN         NaN             NaN   \n4           NaN           NaN               NaN         NaN             NaN   \n...         ...           ...               ...         ...             ...   \n3345        NaN           NaN               NaN         NaN             NaN   \n3346        NaN           NaN               NaN         NaN             NaN   \n3347        NaN           NaN               NaN         NaN             NaN   \n3348        NaN           NaN               NaN         NaN             NaN   \n3349        NaN           NaN               NaN         NaN             NaN   \n\n      pass_length pass_outcome pass_outswinging pass_recipient   \n0             NaN          NaN              NaN            NaN  \\\n1             NaN          NaN              NaN            NaN   \n2             NaN          NaN              NaN            NaN   \n3             NaN          NaN              NaN            NaN   \n4             NaN          NaN              NaN            NaN   \n...           ...          ...              ...            ...   \n3345          NaN          NaN              NaN            NaN   \n3346          NaN          NaN              NaN            NaN   \n3347          NaN          NaN              NaN            NaN   \n3348          NaN          NaN              NaN            NaN   \n3349          NaN          NaN              NaN            NaN   \n\n     pass_shot_assist pass_switch pass_technique pass_type  period   \n0                 NaN         NaN            NaN       NaN       1  \\\n1                 NaN         NaN            NaN       NaN       1   \n2                 NaN         NaN            NaN       NaN       1   \n3                 NaN         NaN            NaN       NaN       1   \n4                 NaN         NaN            NaN       NaN       2   \n...               ...         ...            ...       ...     ...   \n3345              NaN         NaN            NaN       NaN       2   \n3346              NaN         NaN            NaN       NaN       2   \n3347              NaN         NaN            NaN       NaN       2   \n3348              NaN         NaN            NaN       NaN       2   \n3349              NaN         NaN            NaN       NaN       2   \n\n        play_pattern                                player  player_id   \n0       Regular Play                                   NaN        NaN  \\\n1       Regular Play                                   NaN        NaN   \n2       Regular Play                                   NaN        NaN   \n3       Regular Play                                   NaN        NaN   \n4     From Free Kick                                   NaN        NaN   \n...              ...                                   ...        ...   \n3345  From Free Kick                           Rianna Dean    31702.0   \n3346    Regular Play                 Gemma Suzanne Davison    15721.0   \n3347   From Throw In                          Jodie Hutton    46537.0   \n3348  From Free Kick                        Nadine Hanssen    46539.0   \n3349   From Throw In  Diana Micaela Abreu de Sousa e Silva    10159.0   \n\n                  position  possession          possession_team   \n0                      NaN           1              Aston Villa  \\\n1                      NaN           1              Aston Villa   \n2                      NaN           1              Aston Villa   \n3                      NaN           1              Aston Villa   \n4                      NaN         102              Aston Villa   \n...                    ...         ...                      ...   \n3345        Center Forward         102              Aston Villa   \n3346             Left Wing         134  Tottenham Hotspur Women   \n3347        Left Wing Back         170  Tottenham Hotspur Women   \n3348  Left Center Midfield         177              Aston Villa   \n3349   Left Center Forward         193  Tottenham Hotspur Women   \n\n      possession_team_id                          related_events  second   \n0                   2647                                     NaN       0  \\\n1                   2647                                     NaN       0   \n2                   2647  [dc452a79-0089-4e2e-82b6-d8349fd5718f]       0   \n3                   2647  [82665823-49b6-413e-a8bf-68fcc45eab52]       0   \n4                   2647  [0f24b6bf-dcc8-4e94-93ce-80d19c9537dc]       0   \n...                  ...                                     ...     ...   \n3345                2647                                     NaN       0   \n3346                 749                                     NaN      29   \n3347                 749                                     NaN      35   \n3348                2647                                     NaN      14   \n3349                 749                                     NaN      46   \n\n     shot_aerial_won shot_body_part shot_deflected shot_end_location   \n0                NaN            NaN            NaN               NaN  \\\n1                NaN            NaN            NaN               NaN   \n2                NaN            NaN            NaN               NaN   \n3                NaN            NaN            NaN               NaN   \n4                NaN            NaN            NaN               NaN   \n...              ...            ...            ...               ...   \n3345             NaN            NaN            NaN               NaN   \n3346             NaN            NaN            NaN               NaN   \n3347             NaN            NaN            NaN               NaN   \n3348             NaN            NaN            NaN               NaN   \n3349             NaN            NaN            NaN               NaN   \n\n     shot_first_time shot_freeze_frame shot_key_pass_id shot_outcome   \n0                NaN               NaN              NaN          NaN  \\\n1                NaN               NaN              NaN          NaN   \n2                NaN               NaN              NaN          NaN   \n3                NaN               NaN              NaN          NaN   \n4                NaN               NaN              NaN          NaN   \n...              ...               ...              ...          ...   \n3345             NaN               NaN              NaN          NaN   \n3346             NaN               NaN              NaN          NaN   \n3347             NaN               NaN              NaN          NaN   \n3348             NaN               NaN              NaN          NaN   \n3349             NaN               NaN              NaN          NaN   \n\n     shot_saved_off_target  shot_statsbomb_xg shot_technique shot_type   \n0                      NaN                NaN            NaN       NaN  \\\n1                      NaN                NaN            NaN       NaN   \n2                      NaN                NaN            NaN       NaN   \n3                      NaN                NaN            NaN       NaN   \n4                      NaN                NaN            NaN       NaN   \n...                    ...                ...            ...       ...   \n3345                   NaN                NaN            NaN       NaN   \n3346                   NaN                NaN            NaN       NaN   \n3347                   NaN                NaN            NaN       NaN   \n3348                   NaN                NaN            NaN       NaN   \n3349                   NaN                NaN            NaN       NaN   \n\n     substitution_outcome substitution_replacement   \n0                     NaN                      NaN  \\\n1                     NaN                      NaN   \n2                     NaN                      NaN   \n3                     NaN                      NaN   \n4                     NaN                      NaN   \n...                   ...                      ...   \n3345             Tactical              Jessica Naz   \n3346             Tactical               Lucy Quinn   \n3347               Injury            Freya Gregory   \n3348             Tactical           Sophie Haywood   \n3349             Tactical              Emma Follis   \n\n                                                tactics   \n0     {'formation': 352, 'lineup': [{'player': {'id'...  \\\n1     {'formation': 4231, 'lineup': [{'player': {'id...   \n2                                                   NaN   \n3                                                   NaN   \n4                                                   NaN   \n...                                                 ...   \n3345                                                NaN   \n3346                                                NaN   \n3347                                                NaN   \n3348                                                NaN   \n3349                                                NaN   \n\n                         team  team_id     timestamp          type   \n0                 Aston Villa     2647  00:00:00.000   Starting XI  \\\n1     Tottenham Hotspur Women      749  00:00:00.000   Starting XI   \n2     Tottenham Hotspur Women      749  00:00:00.000    Half Start   \n3                 Aston Villa     2647  00:00:00.000    Half Start   \n4                 Aston Villa     2647  00:00:00.000    Half Start   \n...                       ...      ...           ...           ...   \n3345  Tottenham Hotspur Women      749  00:00:00.000  Substitution   \n3346  Tottenham Hotspur Women      749  00:15:29.741  Substitution   \n3347              Aston Villa     2647  00:37:35.963  Substitution   \n3348              Aston Villa     2647  00:41:14.786  Substitution   \n3349              Aston Villa     2647  00:51:46.256  Substitution   \n\n     under_pressure  \n0               NaN  \n1               NaN  \n2               NaN  \n3               NaN  \n4               NaN  \n...             ...  \n3345            NaN  \n3346            NaN  \n3347            NaN  \n3348            NaN  \n3349            NaN  \n\n[3350 rows x 85 columns]",
      "text/html": "<div>\n<style scoped>\n    .dataframe tbody tr th:only-of-type {\n        vertical-align: middle;\n    }\n\n    .dataframe tbody tr th {\n        vertical-align: top;\n    }\n\n    .dataframe thead th {\n        text-align: right;\n    }\n</style>\n<table border=\"1\" class=\"dataframe\">\n  <thead>\n    <tr style=\"text-align: right;\">\n      <th></th>\n      <th>ball_receipt_outcome</th>\n      <th>ball_recovery_recovery_failure</th>\n      <th>block_deflection</th>\n      <th>carry_end_location</th>\n      <th>clearance_aerial_won</th>\n      <th>clearance_body_part</th>\n      <th>clearance_head</th>\n      <th>clearance_left_foot</th>\n      <th>clearance_other</th>\n      <th>clearance_right_foot</th>\n      <th>counterpress</th>\n      <th>dribble_nutmeg</th>\n      <th>dribble_outcome</th>\n      <th>dribble_overrun</th>\n      <th>duel_outcome</th>\n      <th>duel_type</th>\n      <th>duration</th>\n      <th>foul_committed_advantage</th>\n      <th>foul_committed_card</th>\n      <th>foul_won_advantage</th>\n      <th>foul_won_defensive</th>\n      <th>goalkeeper_body_part</th>\n      <th>goalkeeper_end_location</th>\n      <th>goalkeeper_outcome</th>\n      <th>goalkeeper_position</th>\n      <th>goalkeeper_punched_out</th>\n      <th>goalkeeper_shot_saved_off_target</th>\n      <th>goalkeeper_technique</th>\n      <th>goalkeeper_type</th>\n      <th>id</th>\n      <th>index</th>\n      <th>injury_stoppage_in_chain</th>\n      <th>interception_outcome</th>\n      <th>location</th>\n      <th>match_id</th>\n      <th>minute</th>\n      <th>off_camera</th>\n      <th>out</th>\n      <th>pass_aerial_won</th>\n      <th>pass_angle</th>\n      <th>pass_assisted_shot_id</th>\n      <th>pass_body_part</th>\n      <th>pass_cross</th>\n      <th>pass_cut_back</th>\n      <th>pass_end_location</th>\n      <th>pass_height</th>\n      <th>pass_inswinging</th>\n      <th>pass_length</th>\n      <th>pass_outcome</th>\n      <th>pass_outswinging</th>\n      <th>pass_recipient</th>\n      <th>pass_shot_assist</th>\n      <th>pass_switch</th>\n      <th>pass_technique</th>\n      <th>pass_type</th>\n      <th>period</th>\n      <th>play_pattern</th>\n      <th>player</th>\n      <th>player_id</th>\n      <th>position</th>\n      <th>possession</th>\n      <th>possession_team</th>\n      <th>possession_team_id</th>\n      <th>related_events</th>\n      <th>second</th>\n      <th>shot_aerial_won</th>\n      <th>shot_body_part</th>\n      <th>shot_deflected</th>\n      <th>shot_end_location</th>\n      <th>shot_first_time</th>\n      <th>shot_freeze_frame</th>\n      <th>shot_key_pass_id</th>\n      <th>shot_outcome</th>\n      <th>shot_saved_off_target</th>\n      <th>shot_statsbomb_xg</th>\n      <th>shot_technique</th>\n      <th>shot_type</th>\n      <th>substitution_outcome</th>\n      <th>substitution_replacement</th>\n      <th>tactics</th>\n      <th>team</th>\n      <th>team_id</th>\n      <th>timestamp</th>\n      <th>type</th>\n      <th>under_pressure</th>\n    </tr>\n  </thead>\n  <tbody>\n    <tr>\n      <th>0</th>\n      <td>NaN</td>\n      <td>NaN</td>\n      <td>NaN</td>\n      <td>NaN</td>\n      <td>NaN</td>\n      <td>NaN</td>\n      <td>NaN</td>\n      <td>NaN</td>\n      <td>NaN</td>\n      <td>NaN</td>\n      <td>NaN</td>\n      <td>NaN</td>\n      <td>NaN</td>\n      <td>NaN</td>\n      <td>NaN</td>\n      <td>NaN</td>\n      <td>0.0</td>\n      <td>NaN</td>\n      <td>NaN</td>\n      <td>NaN</td>\n      <td>NaN</td>\n      <td>NaN</td>\n      <td>NaN</td>\n      <td>NaN</td>\n      <td>NaN</td>\n      <td>NaN</td>\n      <td>NaN</td>\n      <td>NaN</td>\n      <td>NaN</td>\n      <td>b7f68694-0261-4929-ad96-907e62ec630c</td>\n      <td>1</td>\n      <td>NaN</td>\n      <td>NaN</td>\n      <td>NaN</td>\n      <td>3775633</td>\n      <td>0</td>\n      <td>NaN</td>\n      <td>NaN</td>\n      <td>NaN</td>\n      <td>NaN</td>\n      <td>NaN</td>\n      <td>NaN</td>\n      <td>NaN</td>\n      <td>NaN</td>\n      <td>NaN</td>\n      <td>NaN</td>\n      <td>NaN</td>\n      <td>NaN</td>\n      <td>NaN</td>\n      <td>NaN</td>\n      <td>NaN</td>\n      <td>NaN</td>\n      <td>NaN</td>\n      <td>NaN</td>\n      <td>NaN</td>\n      <td>1</td>\n      <td>Regular Play</td>\n      <td>NaN</td>\n      <td>NaN</td>\n      <td>NaN</td>\n      <td>1</td>\n      <td>Aston Villa</td>\n      <td>2647</td>\n      <td>NaN</td>\n      <td>0</td>\n      <td>NaN</td>\n      <td>NaN</td>\n      <td>NaN</td>\n      <td>NaN</td>\n      <td>NaN</td>\n      <td>NaN</td>\n      <td>NaN</td>\n      <td>NaN</td>\n      <td>NaN</td>\n      <td>NaN</td>\n      <td>NaN</td>\n      <td>NaN</td>\n      <td>NaN</td>\n      <td>NaN</td>\n      <td>{'formation': 352, 'lineup': [{'player': {'id'...</td>\n      <td>Aston Villa</td>\n      <td>2647</td>\n      <td>00:00:00.000</td>\n      <td>Starting XI</td>\n      <td>NaN</td>\n    </tr>\n    <tr>\n      <th>1</th>\n      <td>NaN</td>\n      <td>NaN</td>\n      <td>NaN</td>\n      <td>NaN</td>\n      <td>NaN</td>\n      <td>NaN</td>\n      <td>NaN</td>\n      <td>NaN</td>\n      <td>NaN</td>\n      <td>NaN</td>\n      <td>NaN</td>\n      <td>NaN</td>\n      <td>NaN</td>\n      <td>NaN</td>\n      <td>NaN</td>\n      <td>NaN</td>\n      <td>0.0</td>\n      <td>NaN</td>\n      <td>NaN</td>\n      <td>NaN</td>\n      <td>NaN</td>\n      <td>NaN</td>\n      <td>NaN</td>\n      <td>NaN</td>\n      <td>NaN</td>\n      <td>NaN</td>\n      <td>NaN</td>\n      <td>NaN</td>\n      <td>NaN</td>\n      <td>3474ba9d-a583-4d35-87dc-d06060a70e1c</td>\n      <td>2</td>\n      <td>NaN</td>\n      <td>NaN</td>\n      <td>NaN</td>\n      <td>3775633</td>\n      <td>0</td>\n      <td>NaN</td>\n      <td>NaN</td>\n      <td>NaN</td>\n      <td>NaN</td>\n      <td>NaN</td>\n      <td>NaN</td>\n      <td>NaN</td>\n      <td>NaN</td>\n      <td>NaN</td>\n      <td>NaN</td>\n      <td>NaN</td>\n      <td>NaN</td>\n      <td>NaN</td>\n      <td>NaN</td>\n      <td>NaN</td>\n      <td>NaN</td>\n      <td>NaN</td>\n      <td>NaN</td>\n      <td>NaN</td>\n      <td>1</td>\n      <td>Regular Play</td>\n      <td>NaN</td>\n      <td>NaN</td>\n      <td>NaN</td>\n      <td>1</td>\n      <td>Aston Villa</td>\n      <td>2647</td>\n      <td>NaN</td>\n      <td>0</td>\n      <td>NaN</td>\n      <td>NaN</td>\n      <td>NaN</td>\n      <td>NaN</td>\n      <td>NaN</td>\n      <td>NaN</td>\n      <td>NaN</td>\n      <td>NaN</td>\n      <td>NaN</td>\n      <td>NaN</td>\n      <td>NaN</td>\n      <td>NaN</td>\n      <td>NaN</td>\n      <td>NaN</td>\n      <td>{'formation': 4231, 'lineup': [{'player': {'id...</td>\n      <td>Tottenham Hotspur Women</td>\n      <td>749</td>\n      <td>00:00:00.000</td>\n      <td>Starting XI</td>\n      <td>NaN</td>\n    </tr>\n    <tr>\n      <th>2</th>\n      <td>NaN</td>\n      <td>NaN</td>\n      <td>NaN</td>\n      <td>NaN</td>\n      <td>NaN</td>\n      <td>NaN</td>\n      <td>NaN</td>\n      <td>NaN</td>\n      <td>NaN</td>\n      <td>NaN</td>\n      <td>NaN</td>\n      <td>NaN</td>\n      <td>NaN</td>\n      <td>NaN</td>\n      <td>NaN</td>\n      <td>NaN</td>\n      <td>0.0</td>\n      <td>NaN</td>\n      <td>NaN</td>\n      <td>NaN</td>\n      <td>NaN</td>\n      <td>NaN</td>\n      <td>NaN</td>\n      <td>NaN</td>\n      <td>NaN</td>\n      <td>NaN</td>\n      <td>NaN</td>\n      <td>NaN</td>\n      <td>NaN</td>\n      <td>82665823-49b6-413e-a8bf-68fcc45eab52</td>\n      <td>3</td>\n      <td>NaN</td>\n      <td>NaN</td>\n      <td>NaN</td>\n      <td>3775633</td>\n      <td>0</td>\n      <td>NaN</td>\n      <td>NaN</td>\n      <td>NaN</td>\n      <td>NaN</td>\n      <td>NaN</td>\n      <td>NaN</td>\n      <td>NaN</td>\n      <td>NaN</td>\n      <td>NaN</td>\n      <td>NaN</td>\n      <td>NaN</td>\n      <td>NaN</td>\n      <td>NaN</td>\n      <td>NaN</td>\n      <td>NaN</td>\n      <td>NaN</td>\n      <td>NaN</td>\n      <td>NaN</td>\n      <td>NaN</td>\n      <td>1</td>\n      <td>Regular Play</td>\n      <td>NaN</td>\n      <td>NaN</td>\n      <td>NaN</td>\n      <td>1</td>\n      <td>Aston Villa</td>\n      <td>2647</td>\n      <td>[dc452a79-0089-4e2e-82b6-d8349fd5718f]</td>\n      <td>0</td>\n      <td>NaN</td>\n      <td>NaN</td>\n      <td>NaN</td>\n      <td>NaN</td>\n      <td>NaN</td>\n      <td>NaN</td>\n      <td>NaN</td>\n      <td>NaN</td>\n      <td>NaN</td>\n      <td>NaN</td>\n      <td>NaN</td>\n      <td>NaN</td>\n      <td>NaN</td>\n      <td>NaN</td>\n      <td>NaN</td>\n      <td>Tottenham Hotspur Women</td>\n      <td>749</td>\n      <td>00:00:00.000</td>\n      <td>Half Start</td>\n      <td>NaN</td>\n    </tr>\n    <tr>\n      <th>3</th>\n      <td>NaN</td>\n      <td>NaN</td>\n      <td>NaN</td>\n      <td>NaN</td>\n      <td>NaN</td>\n      <td>NaN</td>\n      <td>NaN</td>\n      <td>NaN</td>\n      <td>NaN</td>\n      <td>NaN</td>\n      <td>NaN</td>\n      <td>NaN</td>\n      <td>NaN</td>\n      <td>NaN</td>\n      <td>NaN</td>\n      <td>NaN</td>\n      <td>0.0</td>\n      <td>NaN</td>\n      <td>NaN</td>\n      <td>NaN</td>\n      <td>NaN</td>\n      <td>NaN</td>\n      <td>NaN</td>\n      <td>NaN</td>\n      <td>NaN</td>\n      <td>NaN</td>\n      <td>NaN</td>\n      <td>NaN</td>\n      <td>NaN</td>\n      <td>dc452a79-0089-4e2e-82b6-d8349fd5718f</td>\n      <td>4</td>\n      <td>NaN</td>\n      <td>NaN</td>\n      <td>NaN</td>\n      <td>3775633</td>\n      <td>0</td>\n      <td>NaN</td>\n      <td>NaN</td>\n      <td>NaN</td>\n      <td>NaN</td>\n      <td>NaN</td>\n      <td>NaN</td>\n      <td>NaN</td>\n      <td>NaN</td>\n      <td>NaN</td>\n      <td>NaN</td>\n      <td>NaN</td>\n      <td>NaN</td>\n      <td>NaN</td>\n      <td>NaN</td>\n      <td>NaN</td>\n      <td>NaN</td>\n      <td>NaN</td>\n      <td>NaN</td>\n      <td>NaN</td>\n      <td>1</td>\n      <td>Regular Play</td>\n      <td>NaN</td>\n      <td>NaN</td>\n      <td>NaN</td>\n      <td>1</td>\n      <td>Aston Villa</td>\n      <td>2647</td>\n      <td>[82665823-49b6-413e-a8bf-68fcc45eab52]</td>\n      <td>0</td>\n      <td>NaN</td>\n      <td>NaN</td>\n      <td>NaN</td>\n      <td>NaN</td>\n      <td>NaN</td>\n      <td>NaN</td>\n      <td>NaN</td>\n      <td>NaN</td>\n      <td>NaN</td>\n      <td>NaN</td>\n      <td>NaN</td>\n      <td>NaN</td>\n      <td>NaN</td>\n      <td>NaN</td>\n      <td>NaN</td>\n      <td>Aston Villa</td>\n      <td>2647</td>\n      <td>00:00:00.000</td>\n      <td>Half Start</td>\n      <td>NaN</td>\n    </tr>\n    <tr>\n      <th>4</th>\n      <td>NaN</td>\n      <td>NaN</td>\n      <td>NaN</td>\n      <td>NaN</td>\n      <td>NaN</td>\n      <td>NaN</td>\n      <td>NaN</td>\n      <td>NaN</td>\n      <td>NaN</td>\n      <td>NaN</td>\n      <td>NaN</td>\n      <td>NaN</td>\n      <td>NaN</td>\n      <td>NaN</td>\n      <td>NaN</td>\n      <td>NaN</td>\n      <td>0.0</td>\n      <td>NaN</td>\n      <td>NaN</td>\n      <td>NaN</td>\n      <td>NaN</td>\n      <td>NaN</td>\n      <td>NaN</td>\n      <td>NaN</td>\n      <td>NaN</td>\n      <td>NaN</td>\n      <td>NaN</td>\n      <td>NaN</td>\n      <td>NaN</td>\n      <td>7afbbb4b-d035-4bee-807a-be4c07f4de1e</td>\n      <td>1660</td>\n      <td>NaN</td>\n      <td>NaN</td>\n      <td>NaN</td>\n      <td>3775633</td>\n      <td>45</td>\n      <td>NaN</td>\n      <td>NaN</td>\n      <td>NaN</td>\n      <td>NaN</td>\n      <td>NaN</td>\n      <td>NaN</td>\n      <td>NaN</td>\n      <td>NaN</td>\n      <td>NaN</td>\n      <td>NaN</td>\n      <td>NaN</td>\n      <td>NaN</td>\n      <td>NaN</td>\n      <td>NaN</td>\n      <td>NaN</td>\n      <td>NaN</td>\n      <td>NaN</td>\n      <td>NaN</td>\n      <td>NaN</td>\n      <td>2</td>\n      <td>From Free Kick</td>\n      <td>NaN</td>\n      <td>NaN</td>\n      <td>NaN</td>\n      <td>102</td>\n      <td>Aston Villa</td>\n      <td>2647</td>\n      <td>[0f24b6bf-dcc8-4e94-93ce-80d19c9537dc]</td>\n      <td>0</td>\n      <td>NaN</td>\n      <td>NaN</td>\n      <td>NaN</td>\n      <td>NaN</td>\n      <td>NaN</td>\n      <td>NaN</td>\n      <td>NaN</td>\n      <td>NaN</td>\n      <td>NaN</td>\n      <td>NaN</td>\n      <td>NaN</td>\n      <td>NaN</td>\n      <td>NaN</td>\n      <td>NaN</td>\n      <td>NaN</td>\n      <td>Aston Villa</td>\n      <td>2647</td>\n      <td>00:00:00.000</td>\n      <td>Half Start</td>\n      <td>NaN</td>\n    </tr>\n    <tr>\n      <th>...</th>\n      <td>...</td>\n      <td>...</td>\n      <td>...</td>\n      <td>...</td>\n      <td>...</td>\n      <td>...</td>\n      <td>...</td>\n      <td>...</td>\n      <td>...</td>\n      <td>...</td>\n      <td>...</td>\n      <td>...</td>\n      <td>...</td>\n      <td>...</td>\n      <td>...</td>\n      <td>...</td>\n      <td>...</td>\n      <td>...</td>\n      <td>...</td>\n      <td>...</td>\n      <td>...</td>\n      <td>...</td>\n      <td>...</td>\n      <td>...</td>\n      <td>...</td>\n      <td>...</td>\n      <td>...</td>\n      <td>...</td>\n      <td>...</td>\n      <td>...</td>\n      <td>...</td>\n      <td>...</td>\n      <td>...</td>\n      <td>...</td>\n      <td>...</td>\n      <td>...</td>\n      <td>...</td>\n      <td>...</td>\n      <td>...</td>\n      <td>...</td>\n      <td>...</td>\n      <td>...</td>\n      <td>...</td>\n      <td>...</td>\n      <td>...</td>\n      <td>...</td>\n      <td>...</td>\n      <td>...</td>\n      <td>...</td>\n      <td>...</td>\n      <td>...</td>\n      <td>...</td>\n      <td>...</td>\n      <td>...</td>\n      <td>...</td>\n      <td>...</td>\n      <td>...</td>\n      <td>...</td>\n      <td>...</td>\n      <td>...</td>\n      <td>...</td>\n      <td>...</td>\n      <td>...</td>\n      <td>...</td>\n      <td>...</td>\n      <td>...</td>\n      <td>...</td>\n      <td>...</td>\n      <td>...</td>\n      <td>...</td>\n      <td>...</td>\n      <td>...</td>\n      <td>...</td>\n      <td>...</td>\n      <td>...</td>\n      <td>...</td>\n      <td>...</td>\n      <td>...</td>\n      <td>...</td>\n      <td>...</td>\n      <td>...</td>\n      <td>...</td>\n      <td>...</td>\n      <td>...</td>\n      <td>...</td>\n    </tr>\n    <tr>\n      <th>3345</th>\n      <td>NaN</td>\n      <td>NaN</td>\n      <td>NaN</td>\n      <td>NaN</td>\n      <td>NaN</td>\n      <td>NaN</td>\n      <td>NaN</td>\n      <td>NaN</td>\n      <td>NaN</td>\n      <td>NaN</td>\n      <td>NaN</td>\n      <td>NaN</td>\n      <td>NaN</td>\n      <td>NaN</td>\n      <td>NaN</td>\n      <td>NaN</td>\n      <td>0.0</td>\n      <td>NaN</td>\n      <td>NaN</td>\n      <td>NaN</td>\n      <td>NaN</td>\n      <td>NaN</td>\n      <td>NaN</td>\n      <td>NaN</td>\n      <td>NaN</td>\n      <td>NaN</td>\n      <td>NaN</td>\n      <td>NaN</td>\n      <td>NaN</td>\n      <td>75004154-61ab-4592-ae33-a78c02abeb17</td>\n      <td>1663</td>\n      <td>NaN</td>\n      <td>NaN</td>\n      <td>NaN</td>\n      <td>3775633</td>\n      <td>45</td>\n      <td>NaN</td>\n      <td>NaN</td>\n      <td>NaN</td>\n      <td>NaN</td>\n      <td>NaN</td>\n      <td>NaN</td>\n      <td>NaN</td>\n      <td>NaN</td>\n      <td>NaN</td>\n      <td>NaN</td>\n      <td>NaN</td>\n      <td>NaN</td>\n      <td>NaN</td>\n      <td>NaN</td>\n      <td>NaN</td>\n      <td>NaN</td>\n      <td>NaN</td>\n      <td>NaN</td>\n      <td>NaN</td>\n      <td>2</td>\n      <td>From Free Kick</td>\n      <td>Rianna Dean</td>\n      <td>31702.0</td>\n      <td>Center Forward</td>\n      <td>102</td>\n      <td>Aston Villa</td>\n      <td>2647</td>\n      <td>NaN</td>\n      <td>0</td>\n      <td>NaN</td>\n      <td>NaN</td>\n      <td>NaN</td>\n      <td>NaN</td>\n      <td>NaN</td>\n      <td>NaN</td>\n      <td>NaN</td>\n      <td>NaN</td>\n      <td>NaN</td>\n      <td>NaN</td>\n      <td>NaN</td>\n      <td>NaN</td>\n      <td>Tactical</td>\n      <td>Jessica Naz</td>\n      <td>NaN</td>\n      <td>Tottenham Hotspur Women</td>\n      <td>749</td>\n      <td>00:00:00.000</td>\n      <td>Substitution</td>\n      <td>NaN</td>\n    </tr>\n    <tr>\n      <th>3346</th>\n      <td>NaN</td>\n      <td>NaN</td>\n      <td>NaN</td>\n      <td>NaN</td>\n      <td>NaN</td>\n      <td>NaN</td>\n      <td>NaN</td>\n      <td>NaN</td>\n      <td>NaN</td>\n      <td>NaN</td>\n      <td>NaN</td>\n      <td>NaN</td>\n      <td>NaN</td>\n      <td>NaN</td>\n      <td>NaN</td>\n      <td>NaN</td>\n      <td>0.0</td>\n      <td>NaN</td>\n      <td>NaN</td>\n      <td>NaN</td>\n      <td>NaN</td>\n      <td>NaN</td>\n      <td>NaN</td>\n      <td>NaN</td>\n      <td>NaN</td>\n      <td>NaN</td>\n      <td>NaN</td>\n      <td>NaN</td>\n      <td>NaN</td>\n      <td>e8db6e7a-1e15-4bfe-bcce-ab2386afd991</td>\n      <td>2109</td>\n      <td>NaN</td>\n      <td>NaN</td>\n      <td>NaN</td>\n      <td>3775633</td>\n      <td>60</td>\n      <td>NaN</td>\n      <td>NaN</td>\n      <td>NaN</td>\n      <td>NaN</td>\n      <td>NaN</td>\n      <td>NaN</td>\n      <td>NaN</td>\n      <td>NaN</td>\n      <td>NaN</td>\n      <td>NaN</td>\n      <td>NaN</td>\n      <td>NaN</td>\n      <td>NaN</td>\n      <td>NaN</td>\n      <td>NaN</td>\n      <td>NaN</td>\n      <td>NaN</td>\n      <td>NaN</td>\n      <td>NaN</td>\n      <td>2</td>\n      <td>Regular Play</td>\n      <td>Gemma Suzanne Davison</td>\n      <td>15721.0</td>\n      <td>Left Wing</td>\n      <td>134</td>\n      <td>Tottenham Hotspur Women</td>\n      <td>749</td>\n      <td>NaN</td>\n      <td>29</td>\n      <td>NaN</td>\n      <td>NaN</td>\n      <td>NaN</td>\n      <td>NaN</td>\n      <td>NaN</td>\n      <td>NaN</td>\n      <td>NaN</td>\n      <td>NaN</td>\n      <td>NaN</td>\n      <td>NaN</td>\n      <td>NaN</td>\n      <td>NaN</td>\n      <td>Tactical</td>\n      <td>Lucy Quinn</td>\n      <td>NaN</td>\n      <td>Tottenham Hotspur Women</td>\n      <td>749</td>\n      <td>00:15:29.741</td>\n      <td>Substitution</td>\n      <td>NaN</td>\n    </tr>\n    <tr>\n      <th>3347</th>\n      <td>NaN</td>\n      <td>NaN</td>\n      <td>NaN</td>\n      <td>NaN</td>\n      <td>NaN</td>\n      <td>NaN</td>\n      <td>NaN</td>\n      <td>NaN</td>\n      <td>NaN</td>\n      <td>NaN</td>\n      <td>NaN</td>\n      <td>NaN</td>\n      <td>NaN</td>\n      <td>NaN</td>\n      <td>NaN</td>\n      <td>NaN</td>\n      <td>0.0</td>\n      <td>NaN</td>\n      <td>NaN</td>\n      <td>NaN</td>\n      <td>NaN</td>\n      <td>NaN</td>\n      <td>NaN</td>\n      <td>NaN</td>\n      <td>NaN</td>\n      <td>NaN</td>\n      <td>NaN</td>\n      <td>NaN</td>\n      <td>NaN</td>\n      <td>24240672-b6a8-40c3-830c-0c9255713d3a</td>\n      <td>2748</td>\n      <td>NaN</td>\n      <td>NaN</td>\n      <td>NaN</td>\n      <td>3775633</td>\n      <td>82</td>\n      <td>NaN</td>\n      <td>NaN</td>\n      <td>NaN</td>\n      <td>NaN</td>\n      <td>NaN</td>\n      <td>NaN</td>\n      <td>NaN</td>\n      <td>NaN</td>\n      <td>NaN</td>\n      <td>NaN</td>\n      <td>NaN</td>\n      <td>NaN</td>\n      <td>NaN</td>\n      <td>NaN</td>\n      <td>NaN</td>\n      <td>NaN</td>\n      <td>NaN</td>\n      <td>NaN</td>\n      <td>NaN</td>\n      <td>2</td>\n      <td>From Throw In</td>\n      <td>Jodie Hutton</td>\n      <td>46537.0</td>\n      <td>Left Wing Back</td>\n      <td>170</td>\n      <td>Tottenham Hotspur Women</td>\n      <td>749</td>\n      <td>NaN</td>\n      <td>35</td>\n      <td>NaN</td>\n      <td>NaN</td>\n      <td>NaN</td>\n      <td>NaN</td>\n      <td>NaN</td>\n      <td>NaN</td>\n      <td>NaN</td>\n      <td>NaN</td>\n      <td>NaN</td>\n      <td>NaN</td>\n      <td>NaN</td>\n      <td>NaN</td>\n      <td>Injury</td>\n      <td>Freya Gregory</td>\n      <td>NaN</td>\n      <td>Aston Villa</td>\n      <td>2647</td>\n      <td>00:37:35.963</td>\n      <td>Substitution</td>\n      <td>NaN</td>\n    </tr>\n    <tr>\n      <th>3348</th>\n      <td>NaN</td>\n      <td>NaN</td>\n      <td>NaN</td>\n      <td>NaN</td>\n      <td>NaN</td>\n      <td>NaN</td>\n      <td>NaN</td>\n      <td>NaN</td>\n      <td>NaN</td>\n      <td>NaN</td>\n      <td>NaN</td>\n      <td>NaN</td>\n      <td>NaN</td>\n      <td>NaN</td>\n      <td>NaN</td>\n      <td>NaN</td>\n      <td>0.0</td>\n      <td>NaN</td>\n      <td>NaN</td>\n      <td>NaN</td>\n      <td>NaN</td>\n      <td>NaN</td>\n      <td>NaN</td>\n      <td>NaN</td>\n      <td>NaN</td>\n      <td>NaN</td>\n      <td>NaN</td>\n      <td>NaN</td>\n      <td>NaN</td>\n      <td>eb36e731-3ad4-4ed1-a72a-d200a83e1af3</td>\n      <td>2858</td>\n      <td>NaN</td>\n      <td>NaN</td>\n      <td>NaN</td>\n      <td>3775633</td>\n      <td>86</td>\n      <td>NaN</td>\n      <td>NaN</td>\n      <td>NaN</td>\n      <td>NaN</td>\n      <td>NaN</td>\n      <td>NaN</td>\n      <td>NaN</td>\n      <td>NaN</td>\n      <td>NaN</td>\n      <td>NaN</td>\n      <td>NaN</td>\n      <td>NaN</td>\n      <td>NaN</td>\n      <td>NaN</td>\n      <td>NaN</td>\n      <td>NaN</td>\n      <td>NaN</td>\n      <td>NaN</td>\n      <td>NaN</td>\n      <td>2</td>\n      <td>From Free Kick</td>\n      <td>Nadine Hanssen</td>\n      <td>46539.0</td>\n      <td>Left Center Midfield</td>\n      <td>177</td>\n      <td>Aston Villa</td>\n      <td>2647</td>\n      <td>NaN</td>\n      <td>14</td>\n      <td>NaN</td>\n      <td>NaN</td>\n      <td>NaN</td>\n      <td>NaN</td>\n      <td>NaN</td>\n      <td>NaN</td>\n      <td>NaN</td>\n      <td>NaN</td>\n      <td>NaN</td>\n      <td>NaN</td>\n      <td>NaN</td>\n      <td>NaN</td>\n      <td>Tactical</td>\n      <td>Sophie Haywood</td>\n      <td>NaN</td>\n      <td>Aston Villa</td>\n      <td>2647</td>\n      <td>00:41:14.786</td>\n      <td>Substitution</td>\n      <td>NaN</td>\n    </tr>\n    <tr>\n      <th>3349</th>\n      <td>NaN</td>\n      <td>NaN</td>\n      <td>NaN</td>\n      <td>NaN</td>\n      <td>NaN</td>\n      <td>NaN</td>\n      <td>NaN</td>\n      <td>NaN</td>\n      <td>NaN</td>\n      <td>NaN</td>\n      <td>NaN</td>\n      <td>NaN</td>\n      <td>NaN</td>\n      <td>NaN</td>\n      <td>NaN</td>\n      <td>NaN</td>\n      <td>0.0</td>\n      <td>NaN</td>\n      <td>NaN</td>\n      <td>NaN</td>\n      <td>NaN</td>\n      <td>NaN</td>\n      <td>NaN</td>\n      <td>NaN</td>\n      <td>NaN</td>\n      <td>NaN</td>\n      <td>NaN</td>\n      <td>NaN</td>\n      <td>NaN</td>\n      <td>a8d6b706-78c8-40d0-96d4-ab299a5fd48e</td>\n      <td>3258</td>\n      <td>NaN</td>\n      <td>NaN</td>\n      <td>NaN</td>\n      <td>3775633</td>\n      <td>96</td>\n      <td>NaN</td>\n      <td>NaN</td>\n      <td>NaN</td>\n      <td>NaN</td>\n      <td>NaN</td>\n      <td>NaN</td>\n      <td>NaN</td>\n      <td>NaN</td>\n      <td>NaN</td>\n      <td>NaN</td>\n      <td>NaN</td>\n      <td>NaN</td>\n      <td>NaN</td>\n      <td>NaN</td>\n      <td>NaN</td>\n      <td>NaN</td>\n      <td>NaN</td>\n      <td>NaN</td>\n      <td>NaN</td>\n      <td>2</td>\n      <td>From Throw In</td>\n      <td>Diana Micaela Abreu de Sousa e Silva</td>\n      <td>10159.0</td>\n      <td>Left Center Forward</td>\n      <td>193</td>\n      <td>Tottenham Hotspur Women</td>\n      <td>749</td>\n      <td>NaN</td>\n      <td>46</td>\n      <td>NaN</td>\n      <td>NaN</td>\n      <td>NaN</td>\n      <td>NaN</td>\n      <td>NaN</td>\n      <td>NaN</td>\n      <td>NaN</td>\n      <td>NaN</td>\n      <td>NaN</td>\n      <td>NaN</td>\n      <td>NaN</td>\n      <td>NaN</td>\n      <td>Tactical</td>\n      <td>Emma Follis</td>\n      <td>NaN</td>\n      <td>Aston Villa</td>\n      <td>2647</td>\n      <td>00:51:46.256</td>\n      <td>Substitution</td>\n      <td>NaN</td>\n    </tr>\n  </tbody>\n</table>\n<p>3350 rows × 85 columns</p>\n</div>"
     },
     "execution_count": 3,
     "metadata": {},
     "output_type": "execute_result"
    }
   ],
   "source": [
    "matches_df = sb.matches(competition_id=37, season_id=90)\n",
    "match_id1 = matches_df.match_id[2]\n",
    "\n",
    "df = sb.events(match_id=match_id1)\n",
    "\n",
    "df"
   ],
   "metadata": {
    "collapsed": false,
    "ExecuteTime": {
     "end_time": "2023-05-31T16:10:26.876557796Z",
     "start_time": "2023-05-31T16:10:26.171861590Z"
    }
   }
  },
  {
   "cell_type": "code",
   "execution_count": null,
   "outputs": [],
   "source": [
    "# get all shot/assist data\n",
    "\n",
    "def get_key_events(competition_ID, season_ID):\n",
    "    # load all matches from specified competition and season\n",
    "    matches_df = sb.matches(competition_id=competition_ID, season_id=season_ID)\n",
    "\n",
    "    match_ids = matches_df.match_id\n",
    "\n",
    "    # loop through all matches in season\n",
    "    key_events = pd.DataFrame([])\n",
    "    for matchid in match_ids:\n",
    "        # get event data ...\n",
    "        df = sb.events(match_id=matchid)\n",
    "\n",
    "        # now filter for key events ...\n",
    "        try:\n",
    "            goal_assist_df = df.dropna(subset=[\"pass_goal_assist\"])\n",
    "        except Exception:\n",
    "            goal_assist_df = pd.DataFrame([])\n",
    "\n",
    "        try:\n",
    "            shot_assist_df = df.dropna(subset=[\"pass_shot_assist\"])\n",
    "        except Exception:\n",
    "            shot_assist_df = pd.DataFrame([])\n",
    "\n",
    "        shot_df = df[df[\"type\"]==\"Shot\"]\n",
    "\n",
    "        # then concat these frames\n",
    "\n",
    "        key_df = pd.concat([goal_assist_df, shot_assist_df], axis=0)\n",
    "        key_df = pd.concat([key_df, shot_df], axis=0)\n",
    "\n",
    "        # store each dataframe of passing data in a dict (key=match id)\n",
    "        key_events = pd.concat([key_events, key_df], axis=0)\n",
    "    return key_events"
   ],
   "metadata": {
    "collapsed": false
   }
  },
  {
   "cell_type": "code",
   "execution_count": null,
   "outputs": [],
   "source": [
    "key_events = get_key_events(competition_ID=com_id, season_ID=season_id)"
   ],
   "metadata": {
    "collapsed": false
   }
  },
  {
   "cell_type": "code",
   "execution_count": null,
   "outputs": [],
   "source": [
    "# save all key events\n",
    "\n",
    "with open(f\"data/WSL_20_21_key_events.pickle\", \"wb\") as f:\n",
    "    pickle.dump(key_events, f, protocol=pickle.HIGHEST_PROTOCOL)\n"
   ],
   "metadata": {
    "collapsed": false
   }
  },
  {
   "cell_type": "code",
   "execution_count": 4,
   "outputs": [],
   "source": [
    "# get all passes (attempt 2)\n",
    "\n",
    "all_matches_passes = get_pass_data(com_id, season_id, None, path, all_teams=True)"
   ],
   "metadata": {
    "collapsed": false,
    "ExecuteTime": {
     "end_time": "2023-05-31T16:12:08.572861579Z",
     "start_time": "2023-05-31T16:10:39.974352594Z"
    }
   }
  },
  {
   "cell_type": "code",
   "execution_count": 7,
   "outputs": [
    {
     "name": "stdout",
     "output_type": "stream",
     "text": [
      "No one-two passes\n",
      "No one-two passes\n",
      "No one-two passes\n"
     ]
    }
   ],
   "source": [
    "# get all one-twos per match\n",
    "\n",
    "one_twos = {}\n",
    "for key in all_matches_passes.keys():\n",
    "    one_twos[key] = get_one_twos(all_matches_passes[key], sec_threshold=s, prog_threshold=p, carry_threshold=c)\n"
   ],
   "metadata": {
    "collapsed": false,
    "ExecuteTime": {
     "end_time": "2023-05-31T16:15:05.373794457Z",
     "start_time": "2023-05-31T16:13:25.561625488Z"
    }
   }
  },
  {
   "cell_type": "code",
   "execution_count": 9,
   "outputs": [],
   "source": [
    "# save all passes (dictionary)\n",
    "\n",
    "with open(f\"data/WSL_20_21_all_passes.pickle\", \"wb\") as f:\n",
    "    pickle.dump(all_matches_passes, f, protocol=pickle.HIGHEST_PROTOCOL)\n"
   ],
   "metadata": {
    "collapsed": false,
    "ExecuteTime": {
     "end_time": "2023-05-31T16:15:53.043874466Z",
     "start_time": "2023-05-31T16:15:51.059637320Z"
    }
   }
  },
  {
   "cell_type": "code",
   "execution_count": 10,
   "outputs": [],
   "source": [
    "# save all one-twos (dictionary)\n",
    "\n",
    "with open(f\"data/WSL_20_21_all_one_twos.pickle\", \"wb\") as f:\n",
    "    pickle.dump(one_twos, f, protocol=pickle.HIGHEST_PROTOCOL)\n"
   ],
   "metadata": {
    "collapsed": false,
    "ExecuteTime": {
     "end_time": "2023-05-31T16:16:09.881282005Z",
     "start_time": "2023-05-31T16:16:09.742144089Z"
    }
   }
  },
  {
   "cell_type": "code",
   "execution_count": null,
   "outputs": [],
   "source": [
    "# key pass ?\n",
    "\n",
    "# for normal pass in all_passes df\n",
    "\n",
    "mask = all_passes[\"id\"] in all_one_twos[\"id\"]\n",
    "not_one_two = all_passes[mask]\n",
    "\n",
    "not_one_two\n",
    "\n"
   ],
   "metadata": {
    "collapsed": false
   }
  }
 ],
 "metadata": {
  "kernelspec": {
   "display_name": "Python 3",
   "language": "python",
   "name": "python3"
  },
  "language_info": {
   "codemirror_mode": {
    "name": "ipython",
    "version": 2
   },
   "file_extension": ".py",
   "mimetype": "text/x-python",
   "name": "python",
   "nbconvert_exporter": "python",
   "pygments_lexer": "ipython2",
   "version": "2.7.6"
  }
 },
 "nbformat": 4,
 "nbformat_minor": 0
}
