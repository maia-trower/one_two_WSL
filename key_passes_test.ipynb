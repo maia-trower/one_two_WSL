{
 "cells": [
  {
   "cell_type": "code",
   "execution_count": 1,
   "metadata": {
    "collapsed": true,
    "ExecuteTime": {
     "end_time": "2023-05-31T15:07:29.855174009Z",
     "start_time": "2023-05-31T15:07:27.584466576Z"
    }
   },
   "outputs": [],
   "source": [
    "import pickle\n",
    "from statsbombpy import sb\n",
    "from mplsoccer import Pitch\n",
    "import pandas as pd\n",
    "pd.set_option(\"display.max_columns\", None)\n",
    "from one_two.functions import get_pass_data, get_one_twos"
   ]
  },
  {
   "cell_type": "code",
   "execution_count": 10,
   "outputs": [],
   "source": [
    "# load in all WSL 20/21 passes\n",
    "com_id = 37\n",
    "season_id = 90\n",
    "s = 5\n",
    "p = 0.75\n",
    "c = 5\n",
    "path = \"\"\n",
    "\n",
    "comp_df = sb.matches(competition_id=com_id, season_id=season_id)"
   ],
   "metadata": {
    "collapsed": false,
    "ExecuteTime": {
     "end_time": "2023-05-31T15:22:27.673367107Z",
     "start_time": "2023-05-31T15:22:27.631490463Z"
    }
   }
  },
  {
   "cell_type": "code",
   "execution_count": 6,
   "outputs": [],
   "source": [
    "# get all pass data\n",
    "\n",
    "all_passes = pd.DataFrame([])\n",
    "teams = comp_df.home_team.unique()\n",
    "\n",
    "for side in teams:\n",
    "    team_passes_dict = get_pass_data(competition_ID=com_id, season_ID=season_id, team=side, data_path=path)\n",
    "\n",
    "    for key in team_passes_dict.keys():\n",
    "        team_passes = team_passes_dict[key]\n",
    "        all_passes = pd.concat([all_passes, team_passes], axis=0)\n"
   ],
   "metadata": {
    "collapsed": false,
    "ExecuteTime": {
     "end_time": "2023-05-31T15:19:12.053045197Z",
     "start_time": "2023-05-31T15:08:35.908129849Z"
    }
   }
  },
  {
   "cell_type": "code",
   "execution_count": 9,
   "outputs": [],
   "source": [
    "# save all passes\n",
    "\n",
    "with open(f\"data/WSL_20_21_all_passes.pickle\", \"wb\") as f:\n",
    "    pickle.dump(all_passes, f, protocol=pickle.HIGHEST_PROTOCOL)\n"
   ],
   "metadata": {
    "collapsed": false,
    "ExecuteTime": {
     "end_time": "2023-05-31T15:21:27.244157955Z",
     "start_time": "2023-05-31T15:21:26.059072939Z"
    }
   }
  },
  {
   "cell_type": "code",
   "execution_count": null,
   "outputs": [
    {
     "name": "stderr",
     "output_type": "stream",
     "text": [
      "/home/s2113337/PycharmProjects/srcftbl_project/one_two/functions.py:63: PerformanceWarning: DataFrame is highly fragmented.  This is usually the result of calling `frame.insert` many times, which has poor performance.  Consider joining all columns at once using pd.concat(axis=1) instead. To get a de-fragmented frame, use `newframe = frame.copy()`\n",
      "  match[\"time_in_secs\"] = match[\"minute\"]*60 + match[\"second\"]\n"
     ]
    }
   ],
   "source": [
    "# now filter to get only one-twos from this season\n",
    "\n",
    "all_one_twos = get_one_twos(all_passes, sec_threshold=s, prog_threshold=p, carry_threshold=c)"
   ],
   "metadata": {
    "collapsed": false,
    "is_executing": true,
    "ExecuteTime": {
     "start_time": "2023-05-31T15:22:39.439831581Z"
    }
   }
  },
  {
   "cell_type": "code",
   "execution_count": null,
   "outputs": [],
   "source": [
    "all_one_twos"
   ],
   "metadata": {
    "collapsed": false,
    "is_executing": true
   }
  },
  {
   "cell_type": "code",
   "execution_count": null,
   "outputs": [],
   "source": [
    "# key pass ?\n",
    "\n",
    "# for normal pass in all_passes df\n",
    "\n",
    "mask = all_passes[\"id\"] in all_one_twos[\"id\"]\n",
    "not_one_two = all_passes[mask]\n",
    "\n",
    "not_one_two\n",
    "\n"
   ],
   "metadata": {
    "collapsed": false
   }
  },
  {
   "cell_type": "code",
   "execution_count": null,
   "outputs": [],
   "source": [
    "# then compute statistics of shots/assists from these one-twos\n",
    "\n",
    "def key_pass_stats(df, ):\n",
    "\n"
   ],
   "metadata": {
    "collapsed": false
   }
  }
 ],
 "metadata": {
  "kernelspec": {
   "display_name": "Python 3",
   "language": "python",
   "name": "python3"
  },
  "language_info": {
   "codemirror_mode": {
    "name": "ipython",
    "version": 2
   },
   "file_extension": ".py",
   "mimetype": "text/x-python",
   "name": "python",
   "nbconvert_exporter": "python",
   "pygments_lexer": "ipython2",
   "version": "2.7.6"
  }
 },
 "nbformat": 4,
 "nbformat_minor": 0
}
